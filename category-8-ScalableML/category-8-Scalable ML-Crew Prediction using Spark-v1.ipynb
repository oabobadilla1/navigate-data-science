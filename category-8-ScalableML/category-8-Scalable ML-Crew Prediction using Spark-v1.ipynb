{
 "cells": [
  {
   "cell_type": "markdown",
   "metadata": {},
   "source": [
    "## Category 8: Scalable Machine Learning - Linear Regression using Spark\n",
    "\n",
    "> You've been contracted by Hyundai Heavy Industries to help them build a predictive model for some ships. Hyundai Heavy Industries is one of the world's largest ship manufacturing companies and builds cruise liners. You've been flown to their headquarters in Ulsan, South Korea to help them give accurate estimates of how many crew members a ship will require.\n",
    "They are currently building new ships for some customers and want you to create a model and use it to predict how many crew members the ships will need.\n",
    "\n",
    "> Here is what the data looks like: Description: Measurements of ship size, capacity, crew, and age for 158 cruise ships.\n",
    "\n",
    "> ** Variables/Columns **\n",
    "- Ship Name     1-20\n",
    "- Cruise Line   21-40\n",
    "- Age (as of 2013)   46-48\n",
    "- Tonnage (1000s of tons)   50-56\n",
    "- passengers (100s)   58-64\n",
    "- Length (100s of feet)  66-72\n",
    "- Cabins  (100s)   74-80\n",
    "- Passenger Density   82-88\n",
    "- Crew  (100s)   90-96"
   ]
  },
  {
   "cell_type": "markdown",
   "metadata": {},
   "source": [
    "** Step 1: Import Pyspark and start the session **"
   ]
  },
  {
   "cell_type": "code",
   "execution_count": 39,
   "metadata": {
    "collapsed": true
   },
   "outputs": [],
   "source": [
    "import findspark\n",
    "findspark.init('C:\\spark')\n",
    "import pyspark\n",
    "\n",
    "from pyspark.sql import SparkSession\n",
    "spark = SparkSession.builder.appName('lr_crewprediction').getOrCreate()"
   ]
  },
  {
   "cell_type": "code",
   "execution_count": 40,
   "metadata": {
    "collapsed": true
   },
   "outputs": [],
   "source": [
    "from pyspark.ml.regression import LinearRegression"
   ]
  },
  {
   "cell_type": "markdown",
   "metadata": {},
   "source": [
    "** Step 2: Read in the training data and explore **"
   ]
  },
  {
   "cell_type": "code",
   "execution_count": 41,
   "metadata": {
    "collapsed": true
   },
   "outputs": [],
   "source": [
    "# Use Spark to read in the training data\n",
    "ships = spark.read.csv(\"cruise_ship_train.csv\",inferSchema=True,header=True)"
   ]
  },
  {
   "cell_type": "code",
   "execution_count": 42,
   "metadata": {},
   "outputs": [
    {
     "name": "stdout",
     "output_type": "stream",
     "text": [
      "root\n",
      " |-- Ship_name: string (nullable = true)\n",
      " |-- Cruise_line: string (nullable = true)\n",
      " |-- Age: integer (nullable = true)\n",
      " |-- Tonnage: double (nullable = true)\n",
      " |-- passengers: double (nullable = true)\n",
      " |-- length: double (nullable = true)\n",
      " |-- cabins: double (nullable = true)\n",
      " |-- passenger_density: double (nullable = true)\n",
      " |-- crew: double (nullable = true)\n",
      "\n"
     ]
    }
   ],
   "source": [
    "# Print the Schema of the DataFrame\n",
    "ships.printSchema()"
   ]
  },
  {
   "cell_type": "code",
   "execution_count": 43,
   "metadata": {},
   "outputs": [
    {
     "name": "stdout",
     "output_type": "stream",
     "text": [
      "+-----------+-----------+---+------------------+----------+------+------+-----------------+----+\n",
      "|  Ship_name|Cruise_line|Age|           Tonnage|passengers|length|cabins|passenger_density|crew|\n",
      "+-----------+-----------+---+------------------+----------+------+------+-----------------+----+\n",
      "|    Journey|    Azamara|  6|30.276999999999997|      6.94|  5.94|  3.55|            42.64|3.55|\n",
      "|      Quest|    Azamara|  6|30.276999999999997|      6.94|  5.94|  3.55|            42.64|3.55|\n",
      "|Celebration|   Carnival| 26|            47.262|     14.86|  7.22|  7.43|             31.8| 6.7|\n",
      "|   Conquest|   Carnival| 11|             110.0|     29.74|  9.53| 14.88|            36.99|19.1|\n",
      "|    Destiny|   Carnival| 17|           101.353|     26.42|  8.92| 13.21|            38.36|10.0|\n",
      "|    Ecstasy|   Carnival| 22|            70.367|     20.52|  8.55|  10.2|            34.29| 9.2|\n",
      "|    Elation|   Carnival| 15|            70.367|     20.52|  8.55|  10.2|            34.29| 9.2|\n",
      "|    Fantasy|   Carnival| 23|            70.367|     20.56|  8.55| 10.22|            34.23| 9.2|\n",
      "|Fascination|   Carnival| 19|            70.367|     20.52|  8.55|  10.2|            34.29| 9.2|\n",
      "|    Freedom|   Carnival|  6|110.23899999999999|      37.0|  9.51| 14.87|            29.79|11.5|\n",
      "|      Glory|   Carnival| 10|             110.0|     29.74|  9.51| 14.87|            36.99|11.6|\n",
      "|    Holiday|   Carnival| 28|            46.052|     14.52|  7.27|  7.26|            31.72| 6.6|\n",
      "|Imagination|   Carnival| 18|            70.367|     20.52|  8.55|  10.2|            34.29| 9.2|\n",
      "|Inspiration|   Carnival| 17|            70.367|     20.52|  8.55|  10.2|            34.29| 9.2|\n",
      "|     Legend|   Carnival| 11|              86.0|     21.24|  9.63| 10.62|            40.49| 9.3|\n",
      "|   Liberty*|   Carnival|  8|             110.0|     29.74|  9.51| 14.87|            36.99|11.6|\n",
      "|    Miracle|   Carnival|  9|              88.5|     21.24|  9.63| 10.62|            41.67|10.3|\n",
      "|   Paradise|   Carnival| 15|            70.367|     20.52|  8.55|  10.2|            34.29| 9.2|\n",
      "|      Pride|   Carnival| 12|              88.5|     21.24|  9.63| 11.62|            41.67| 9.3|\n",
      "|  Sensation|   Carnival| 20|            70.367|     20.52|  8.55|  10.2|            34.29| 9.2|\n",
      "+-----------+-----------+---+------------------+----------+------+------+-----------------+----+\n",
      "only showing top 20 rows\n",
      "\n"
     ]
    }
   ],
   "source": [
    "ships.show()"
   ]
  },
  {
   "cell_type": "code",
   "execution_count": 44,
   "metadata": {},
   "outputs": [
    {
     "data": {
      "text/plain": [
       "Row(Ship_name='Journey', Cruise_line='Azamara', Age=6, Tonnage=30.276999999999997, passengers=6.94, length=5.94, cabins=3.55, passenger_density=42.64, crew=3.55)"
      ]
     },
     "execution_count": 44,
     "metadata": {},
     "output_type": "execute_result"
    }
   ],
   "source": [
    "ships.head()"
   ]
  },
  {
   "cell_type": "code",
   "execution_count": 45,
   "metadata": {},
   "outputs": [
    {
     "name": "stdout",
     "output_type": "stream",
     "text": [
      "Row(Ship_name='Journey', Cruise_line='Azamara', Age=6, Tonnage=30.276999999999997, passengers=6.94, length=5.94, cabins=3.55, passenger_density=42.64, crew=3.55)\n",
      "\n",
      "\n",
      "Row(Ship_name='Quest', Cruise_line='Azamara', Age=6, Tonnage=30.276999999999997, passengers=6.94, length=5.94, cabins=3.55, passenger_density=42.64, crew=3.55)\n",
      "\n",
      "\n",
      "Row(Ship_name='Celebration', Cruise_line='Carnival', Age=26, Tonnage=47.262, passengers=14.86, length=7.22, cabins=7.43, passenger_density=31.8, crew=6.7)\n",
      "\n",
      "\n",
      "Row(Ship_name='Conquest', Cruise_line='Carnival', Age=11, Tonnage=110.0, passengers=29.74, length=9.53, cabins=14.88, passenger_density=36.99, crew=19.1)\n",
      "\n",
      "\n",
      "Row(Ship_name='Destiny', Cruise_line='Carnival', Age=17, Tonnage=101.353, passengers=26.42, length=8.92, cabins=13.21, passenger_density=38.36, crew=10.0)\n",
      "\n",
      "\n"
     ]
    }
   ],
   "source": [
    "for ship in ships.head(5):\n",
    "    print(ship)\n",
    "    print(\"\\n\")"
   ]
  },
  {
   "cell_type": "code",
   "execution_count": 46,
   "metadata": {},
   "outputs": [
    {
     "name": "stdout",
     "output_type": "stream",
     "text": [
      "+-----------------+-----+\n",
      "|      Cruise_line|count|\n",
      "+-----------------+-----+\n",
      "|            Costa|   11|\n",
      "|              P&O|    6|\n",
      "|           Cunard|    3|\n",
      "|Regent_Seven_Seas|    5|\n",
      "|              MSC|    8|\n",
      "|         Carnival|   22|\n",
      "|          Crystal|    2|\n",
      "|           Orient|    1|\n",
      "|         Princess|   17|\n",
      "| Holland_American|   14|\n",
      "|           Disney|    2|\n",
      "|        Norwegian|   13|\n",
      "|          Oceania|    3|\n",
      "|          Azamara|    2|\n",
      "|        Celebrity|   10|\n",
      "|  Royal_Caribbean|   10|\n",
      "+-----------------+-----+\n",
      "\n"
     ]
    }
   ],
   "source": [
    "ships.groupBy('Cruise_line').count().show()"
   ]
  },
  {
   "cell_type": "code",
   "execution_count": 47,
   "metadata": {},
   "outputs": [
    {
     "data": {
      "text/plain": [
       "['Ship_name',\n",
       " 'Cruise_line',\n",
       " 'Age',\n",
       " 'Tonnage',\n",
       " 'passengers',\n",
       " 'length',\n",
       " 'cabins',\n",
       " 'passenger_density',\n",
       " 'crew']"
      ]
     },
     "execution_count": 47,
     "metadata": {},
     "output_type": "execute_result"
    }
   ],
   "source": [
    "ships.columns"
   ]
  },
  {
   "cell_type": "code",
   "execution_count": 48,
   "metadata": {},
   "outputs": [
    {
     "name": "stdout",
     "output_type": "stream",
     "text": [
      "+-----------+-----------+---+------------------+----------+------+------+-----------------+----+---------------+\n",
      "|  Ship_name|Cruise_line|Age|           Tonnage|passengers|length|cabins|passenger_density|crew|CruiseLineIndex|\n",
      "+-----------+-----------+---+------------------+----------+------+------+-----------------+----+---------------+\n",
      "|    Journey|    Azamara|  6|30.276999999999997|      6.94|  5.94|  3.55|            42.64|3.55|           12.0|\n",
      "|      Quest|    Azamara|  6|30.276999999999997|      6.94|  5.94|  3.55|            42.64|3.55|           12.0|\n",
      "|Celebration|   Carnival| 26|            47.262|     14.86|  7.22|  7.43|             31.8| 6.7|            0.0|\n",
      "|   Conquest|   Carnival| 11|             110.0|     29.74|  9.53| 14.88|            36.99|19.1|            0.0|\n",
      "|    Destiny|   Carnival| 17|           101.353|     26.42|  8.92| 13.21|            38.36|10.0|            0.0|\n",
      "|    Ecstasy|   Carnival| 22|            70.367|     20.52|  8.55|  10.2|            34.29| 9.2|            0.0|\n",
      "|    Elation|   Carnival| 15|            70.367|     20.52|  8.55|  10.2|            34.29| 9.2|            0.0|\n",
      "|    Fantasy|   Carnival| 23|            70.367|     20.56|  8.55| 10.22|            34.23| 9.2|            0.0|\n",
      "|Fascination|   Carnival| 19|            70.367|     20.52|  8.55|  10.2|            34.29| 9.2|            0.0|\n",
      "|    Freedom|   Carnival|  6|110.23899999999999|      37.0|  9.51| 14.87|            29.79|11.5|            0.0|\n",
      "|      Glory|   Carnival| 10|             110.0|     29.74|  9.51| 14.87|            36.99|11.6|            0.0|\n",
      "|    Holiday|   Carnival| 28|            46.052|     14.52|  7.27|  7.26|            31.72| 6.6|            0.0|\n",
      "|Imagination|   Carnival| 18|            70.367|     20.52|  8.55|  10.2|            34.29| 9.2|            0.0|\n",
      "|Inspiration|   Carnival| 17|            70.367|     20.52|  8.55|  10.2|            34.29| 9.2|            0.0|\n",
      "|     Legend|   Carnival| 11|              86.0|     21.24|  9.63| 10.62|            40.49| 9.3|            0.0|\n",
      "|   Liberty*|   Carnival|  8|             110.0|     29.74|  9.51| 14.87|            36.99|11.6|            0.0|\n",
      "|    Miracle|   Carnival|  9|              88.5|     21.24|  9.63| 10.62|            41.67|10.3|            0.0|\n",
      "|   Paradise|   Carnival| 15|            70.367|     20.52|  8.55|  10.2|            34.29| 9.2|            0.0|\n",
      "|      Pride|   Carnival| 12|              88.5|     21.24|  9.63| 11.62|            41.67| 9.3|            0.0|\n",
      "|  Sensation|   Carnival| 20|            70.367|     20.52|  8.55|  10.2|            34.29| 9.2|            0.0|\n",
      "+-----------+-----------+---+------------------+----------+------+------+-----------------+----+---------------+\n",
      "only showing top 20 rows\n",
      "\n"
     ]
    }
   ],
   "source": [
    "from pyspark.ml.feature import StringIndexer\n",
    "\n",
    "indexer = StringIndexer(inputCol=\"Cruise_line\", outputCol=\"CruiseLineIndex\")\n",
    "ships = indexer.fit(ships).transform(ships)\n",
    "ships.show()"
   ]
  },
  {
   "cell_type": "code",
   "execution_count": 49,
   "metadata": {
    "collapsed": true
   },
   "outputs": [],
   "source": [
    "# Import VectorAssembler and Vectors\n",
    "from pyspark.ml.linalg import Vectors\n",
    "from pyspark.ml.feature import VectorAssembler"
   ]
  },
  {
   "cell_type": "code",
   "execution_count": 50,
   "metadata": {
    "collapsed": true
   },
   "outputs": [],
   "source": [
    "assembler = VectorAssembler(\n",
    "    inputCols=[\"Age\", \"Tonnage\", \"passengers\",\n",
    "               \"length\",\"cabins\",\"passenger_density\"],\n",
    "    outputCol=\"numerical_features\")"
   ]
  },
  {
   "cell_type": "code",
   "execution_count": 51,
   "metadata": {},
   "outputs": [
    {
     "name": "stdout",
     "output_type": "stream",
     "text": [
      "+-----------+-----------+---+------------------+----------+------+------+-----------------+----+---------------+--------------------+\n",
      "|  Ship_name|Cruise_line|Age|           Tonnage|passengers|length|cabins|passenger_density|crew|CruiseLineIndex|  numerical_features|\n",
      "+-----------+-----------+---+------------------+----------+------+------+-----------------+----+---------------+--------------------+\n",
      "|    Journey|    Azamara|  6|30.276999999999997|      6.94|  5.94|  3.55|            42.64|3.55|           12.0|[6.0,30.276999999...|\n",
      "|      Quest|    Azamara|  6|30.276999999999997|      6.94|  5.94|  3.55|            42.64|3.55|           12.0|[6.0,30.276999999...|\n",
      "|Celebration|   Carnival| 26|            47.262|     14.86|  7.22|  7.43|             31.8| 6.7|            0.0|[26.0,47.262,14.8...|\n",
      "|   Conquest|   Carnival| 11|             110.0|     29.74|  9.53| 14.88|            36.99|19.1|            0.0|[11.0,110.0,29.74...|\n",
      "|    Destiny|   Carnival| 17|           101.353|     26.42|  8.92| 13.21|            38.36|10.0|            0.0|[17.0,101.353,26....|\n",
      "|    Ecstasy|   Carnival| 22|            70.367|     20.52|  8.55|  10.2|            34.29| 9.2|            0.0|[22.0,70.367,20.5...|\n",
      "|    Elation|   Carnival| 15|            70.367|     20.52|  8.55|  10.2|            34.29| 9.2|            0.0|[15.0,70.367,20.5...|\n",
      "|    Fantasy|   Carnival| 23|            70.367|     20.56|  8.55| 10.22|            34.23| 9.2|            0.0|[23.0,70.367,20.5...|\n",
      "|Fascination|   Carnival| 19|            70.367|     20.52|  8.55|  10.2|            34.29| 9.2|            0.0|[19.0,70.367,20.5...|\n",
      "|    Freedom|   Carnival|  6|110.23899999999999|      37.0|  9.51| 14.87|            29.79|11.5|            0.0|[6.0,110.23899999...|\n",
      "|      Glory|   Carnival| 10|             110.0|     29.74|  9.51| 14.87|            36.99|11.6|            0.0|[10.0,110.0,29.74...|\n",
      "|    Holiday|   Carnival| 28|            46.052|     14.52|  7.27|  7.26|            31.72| 6.6|            0.0|[28.0,46.052,14.5...|\n",
      "|Imagination|   Carnival| 18|            70.367|     20.52|  8.55|  10.2|            34.29| 9.2|            0.0|[18.0,70.367,20.5...|\n",
      "|Inspiration|   Carnival| 17|            70.367|     20.52|  8.55|  10.2|            34.29| 9.2|            0.0|[17.0,70.367,20.5...|\n",
      "|     Legend|   Carnival| 11|              86.0|     21.24|  9.63| 10.62|            40.49| 9.3|            0.0|[11.0,86.0,21.24,...|\n",
      "|   Liberty*|   Carnival|  8|             110.0|     29.74|  9.51| 14.87|            36.99|11.6|            0.0|[8.0,110.0,29.74,...|\n",
      "|    Miracle|   Carnival|  9|              88.5|     21.24|  9.63| 10.62|            41.67|10.3|            0.0|[9.0,88.5,21.24,9...|\n",
      "|   Paradise|   Carnival| 15|            70.367|     20.52|  8.55|  10.2|            34.29| 9.2|            0.0|[15.0,70.367,20.5...|\n",
      "|      Pride|   Carnival| 12|              88.5|     21.24|  9.63| 11.62|            41.67| 9.3|            0.0|[12.0,88.5,21.24,...|\n",
      "|  Sensation|   Carnival| 20|            70.367|     20.52|  8.55|  10.2|            34.29| 9.2|            0.0|[20.0,70.367,20.5...|\n",
      "+-----------+-----------+---+------------------+----------+------+------+-----------------+----+---------------+--------------------+\n",
      "only showing top 20 rows\n",
      "\n"
     ]
    }
   ],
   "source": [
    "ships = assembler.transform(ships)\n",
    "ships.show()"
   ]
  },
  {
   "cell_type": "code",
   "execution_count": 52,
   "metadata": {},
   "outputs": [
    {
     "name": "stdout",
     "output_type": "stream",
     "text": [
      "+-----------+-----------+---+------------------+----------+------+------+-----------------+----+---------------+--------------------+-------------------------+\n",
      "|  Ship_name|Cruise_line|Age|           Tonnage|passengers|length|cabins|passenger_density|crew|CruiseLineIndex|  numerical_features|scaled_numerical_features|\n",
      "+-----------+-----------+---+------------------+----------+------+------+-----------------+----+---------------+--------------------+-------------------------+\n",
      "|    Journey|    Azamara|  6|30.276999999999997|      6.94|  5.94|  3.55|            42.64|3.55|           12.0|[6.0,30.276999999...|     [0.76548338226047...|\n",
      "|      Quest|    Azamara|  6|30.276999999999997|      6.94|  5.94|  3.55|            42.64|3.55|           12.0|[6.0,30.276999999...|     [0.76548338226047...|\n",
      "|Celebration|   Carnival| 26|            47.262|     14.86|  7.22|  7.43|             31.8| 6.7|            0.0|[26.0,47.262,14.8...|     [3.31709465646204...|\n",
      "|   Conquest|   Carnival| 11|             110.0|     29.74|  9.53| 14.88|            36.99|19.1|            0.0|[11.0,110.0,29.74...|     [1.40338620081086...|\n",
      "|    Destiny|   Carnival| 17|           101.353|     26.42|  8.92| 13.21|            38.36|10.0|            0.0|[17.0,101.353,26....|     [2.16886958307133...|\n",
      "|    Ecstasy|   Carnival| 22|            70.367|     20.52|  8.55|  10.2|            34.29| 9.2|            0.0|[22.0,70.367,20.5...|     [2.80677240162172...|\n",
      "|    Elation|   Carnival| 15|            70.367|     20.52|  8.55|  10.2|            34.29| 9.2|            0.0|[15.0,70.367,20.5...|     [1.91370845565117...|\n",
      "|    Fantasy|   Carnival| 23|            70.367|     20.56|  8.55| 10.22|            34.23| 9.2|            0.0|[23.0,70.367,20.5...|     [2.93435296533180...|\n",
      "|Fascination|   Carnival| 19|            70.367|     20.52|  8.55|  10.2|            34.29| 9.2|            0.0|[19.0,70.367,20.5...|     [2.42403071049149...|\n",
      "|    Freedom|   Carnival|  6|110.23899999999999|      37.0|  9.51| 14.87|            29.79|11.5|            0.0|[6.0,110.23899999...|     [0.76548338226047...|\n",
      "|      Glory|   Carnival| 10|             110.0|     29.74|  9.51| 14.87|            36.99|11.6|            0.0|[10.0,110.0,29.74...|     [1.27580563710078...|\n",
      "|    Holiday|   Carnival| 28|            46.052|     14.52|  7.27|  7.26|            31.72| 6.6|            0.0|[28.0,46.052,14.5...|     [3.57225578388219...|\n",
      "|Imagination|   Carnival| 18|            70.367|     20.52|  8.55|  10.2|            34.29| 9.2|            0.0|[18.0,70.367,20.5...|     [2.29645014678141...|\n",
      "|Inspiration|   Carnival| 17|            70.367|     20.52|  8.55|  10.2|            34.29| 9.2|            0.0|[17.0,70.367,20.5...|     [2.16886958307133...|\n",
      "|     Legend|   Carnival| 11|              86.0|     21.24|  9.63| 10.62|            40.49| 9.3|            0.0|[11.0,86.0,21.24,...|     [1.40338620081086...|\n",
      "|   Liberty*|   Carnival|  8|             110.0|     29.74|  9.51| 14.87|            36.99|11.6|            0.0|[8.0,110.0,29.74,...|     [1.02064450968062...|\n",
      "|    Miracle|   Carnival|  9|              88.5|     21.24|  9.63| 10.62|            41.67|10.3|            0.0|[9.0,88.5,21.24,9...|     [1.14822507339070...|\n",
      "|   Paradise|   Carnival| 15|            70.367|     20.52|  8.55|  10.2|            34.29| 9.2|            0.0|[15.0,70.367,20.5...|     [1.91370845565117...|\n",
      "|      Pride|   Carnival| 12|              88.5|     21.24|  9.63| 11.62|            41.67| 9.3|            0.0|[12.0,88.5,21.24,...|     [1.53096676452094...|\n",
      "|  Sensation|   Carnival| 20|            70.367|     20.52|  8.55|  10.2|            34.29| 9.2|            0.0|[20.0,70.367,20.5...|     [2.55161127420156...|\n",
      "+-----------+-----------+---+------------------+----------+------+------+-----------------+----+---------------+--------------------+-------------------------+\n",
      "only showing top 20 rows\n",
      "\n"
     ]
    }
   ],
   "source": [
    "from pyspark.ml.feature import StandardScaler\n",
    "\n",
    "scaler = StandardScaler(inputCol=\"numerical_features\",\n",
    "                        outputCol=\"scaled_numerical_features\",\n",
    "                        withStd=True, withMean=False)\n",
    "\n",
    "# Compute summary statistics by fitting the StandardScaler\n",
    "scalerModel = scaler.fit(ships)\n",
    "\n",
    "# Normalize each feature to have unit standard deviation.\n",
    "ships = scalerModel.transform(ships)\n",
    "ships.show()"
   ]
  },
  {
   "cell_type": "markdown",
   "metadata": {},
   "source": [
    "** Step 3: Setup the dataframe for Machine Learning **"
   ]
  },
  {
   "cell_type": "code",
   "execution_count": 53,
   "metadata": {
    "collapsed": true
   },
   "outputs": [],
   "source": [
    "# A few things we need to do before Spark can accept the data!\n",
    "# It needs to be in the form of two columns\n",
    "# (\"label\",\"features\")\n",
    "assembler = VectorAssembler(\n",
    "    inputCols=[\"scaled_numerical_features\",\"CruiseLineIndex\"],\n",
    "    outputCol=\"features\")"
   ]
  },
  {
   "cell_type": "code",
   "execution_count": 54,
   "metadata": {
    "collapsed": true
   },
   "outputs": [],
   "source": [
    "shipsFinal = assembler.transform(ships)"
   ]
  },
  {
   "cell_type": "code",
   "execution_count": 55,
   "metadata": {},
   "outputs": [
    {
     "name": "stdout",
     "output_type": "stream",
     "text": [
      "+-----------+-----------+---+------------------+----------+------+------+-----------------+----+---------------+--------------------+-------------------------+--------------------+\n",
      "|  Ship_name|Cruise_line|Age|           Tonnage|passengers|length|cabins|passenger_density|crew|CruiseLineIndex|  numerical_features|scaled_numerical_features|            features|\n",
      "+-----------+-----------+---+------------------+----------+------+------+-----------------+----+---------------+--------------------+-------------------------+--------------------+\n",
      "|    Journey|    Azamara|  6|30.276999999999997|      6.94|  5.94|  3.55|            42.64|3.55|           12.0|[6.0,30.276999999...|     [0.76548338226047...|[0.76548338226047...|\n",
      "|      Quest|    Azamara|  6|30.276999999999997|      6.94|  5.94|  3.55|            42.64|3.55|           12.0|[6.0,30.276999999...|     [0.76548338226047...|[0.76548338226047...|\n",
      "|Celebration|   Carnival| 26|            47.262|     14.86|  7.22|  7.43|             31.8| 6.7|            0.0|[26.0,47.262,14.8...|     [3.31709465646204...|[3.31709465646204...|\n",
      "|   Conquest|   Carnival| 11|             110.0|     29.74|  9.53| 14.88|            36.99|19.1|            0.0|[11.0,110.0,29.74...|     [1.40338620081086...|[1.40338620081086...|\n",
      "|    Destiny|   Carnival| 17|           101.353|     26.42|  8.92| 13.21|            38.36|10.0|            0.0|[17.0,101.353,26....|     [2.16886958307133...|[2.16886958307133...|\n",
      "|    Ecstasy|   Carnival| 22|            70.367|     20.52|  8.55|  10.2|            34.29| 9.2|            0.0|[22.0,70.367,20.5...|     [2.80677240162172...|[2.80677240162172...|\n",
      "|    Elation|   Carnival| 15|            70.367|     20.52|  8.55|  10.2|            34.29| 9.2|            0.0|[15.0,70.367,20.5...|     [1.91370845565117...|[1.91370845565117...|\n",
      "|    Fantasy|   Carnival| 23|            70.367|     20.56|  8.55| 10.22|            34.23| 9.2|            0.0|[23.0,70.367,20.5...|     [2.93435296533180...|[2.93435296533180...|\n",
      "|Fascination|   Carnival| 19|            70.367|     20.52|  8.55|  10.2|            34.29| 9.2|            0.0|[19.0,70.367,20.5...|     [2.42403071049149...|[2.42403071049149...|\n",
      "|    Freedom|   Carnival|  6|110.23899999999999|      37.0|  9.51| 14.87|            29.79|11.5|            0.0|[6.0,110.23899999...|     [0.76548338226047...|[0.76548338226047...|\n",
      "|      Glory|   Carnival| 10|             110.0|     29.74|  9.51| 14.87|            36.99|11.6|            0.0|[10.0,110.0,29.74...|     [1.27580563710078...|[1.27580563710078...|\n",
      "|    Holiday|   Carnival| 28|            46.052|     14.52|  7.27|  7.26|            31.72| 6.6|            0.0|[28.0,46.052,14.5...|     [3.57225578388219...|[3.57225578388219...|\n",
      "|Imagination|   Carnival| 18|            70.367|     20.52|  8.55|  10.2|            34.29| 9.2|            0.0|[18.0,70.367,20.5...|     [2.29645014678141...|[2.29645014678141...|\n",
      "|Inspiration|   Carnival| 17|            70.367|     20.52|  8.55|  10.2|            34.29| 9.2|            0.0|[17.0,70.367,20.5...|     [2.16886958307133...|[2.16886958307133...|\n",
      "|     Legend|   Carnival| 11|              86.0|     21.24|  9.63| 10.62|            40.49| 9.3|            0.0|[11.0,86.0,21.24,...|     [1.40338620081086...|[1.40338620081086...|\n",
      "|   Liberty*|   Carnival|  8|             110.0|     29.74|  9.51| 14.87|            36.99|11.6|            0.0|[8.0,110.0,29.74,...|     [1.02064450968062...|[1.02064450968062...|\n",
      "|    Miracle|   Carnival|  9|              88.5|     21.24|  9.63| 10.62|            41.67|10.3|            0.0|[9.0,88.5,21.24,9...|     [1.14822507339070...|[1.14822507339070...|\n",
      "|   Paradise|   Carnival| 15|            70.367|     20.52|  8.55|  10.2|            34.29| 9.2|            0.0|[15.0,70.367,20.5...|     [1.91370845565117...|[1.91370845565117...|\n",
      "|      Pride|   Carnival| 12|              88.5|     21.24|  9.63| 11.62|            41.67| 9.3|            0.0|[12.0,88.5,21.24,...|     [1.53096676452094...|[1.53096676452094...|\n",
      "|  Sensation|   Carnival| 20|            70.367|     20.52|  8.55|  10.2|            34.29| 9.2|            0.0|[20.0,70.367,20.5...|     [2.55161127420156...|[2.55161127420156...|\n",
      "+-----------+-----------+---+------------------+----------+------+------+-----------------+----+---------------+--------------------+-------------------------+--------------------+\n",
      "only showing top 20 rows\n",
      "\n"
     ]
    }
   ],
   "source": [
    "shipsFinal.show()"
   ]
  },
  {
   "cell_type": "code",
   "execution_count": 56,
   "metadata": {
    "collapsed": true
   },
   "outputs": [],
   "source": [
    "final_data = shipsFinal.select(\"features\",'crew')"
   ]
  },
  {
   "cell_type": "code",
   "execution_count": 57,
   "metadata": {
    "collapsed": true
   },
   "outputs": [],
   "source": [
    "train_data,test_data = final_data.randomSplit([0.8,0.2])"
   ]
  },
  {
   "cell_type": "code",
   "execution_count": 58,
   "metadata": {},
   "outputs": [
    {
     "name": "stdout",
     "output_type": "stream",
     "text": [
      "+-------+-----------------+\n",
      "|summary|             crew|\n",
      "+-------+-----------------+\n",
      "|  count|              106|\n",
      "|   mean| 8.05245283018869|\n",
      "| stddev|2.867268423437111|\n",
      "|    min|              0.6|\n",
      "|    max|             13.6|\n",
      "+-------+-----------------+\n",
      "\n"
     ]
    }
   ],
   "source": [
    "train_data.describe().show()"
   ]
  },
  {
   "cell_type": "code",
   "execution_count": 59,
   "metadata": {},
   "outputs": [
    {
     "name": "stdout",
     "output_type": "stream",
     "text": [
      "+-------+-----------------+\n",
      "|summary|             crew|\n",
      "+-------+-----------------+\n",
      "|  count|               23|\n",
      "|   mean|8.443478260869563|\n",
      "| stddev|3.654825712416708|\n",
      "|    min|             3.55|\n",
      "|    max|             19.1|\n",
      "+-------+-----------------+\n",
      "\n"
     ]
    }
   ],
   "source": [
    "test_data.describe().show()"
   ]
  },
  {
   "cell_type": "markdown",
   "metadata": {},
   "source": [
    "** Step 4: Perform Machine Learning **"
   ]
  },
  {
   "cell_type": "code",
   "execution_count": 60,
   "metadata": {
    "collapsed": true
   },
   "outputs": [],
   "source": [
    "# Create a Linear Regression Model object\n",
    "lr = LinearRegression(labelCol='crew')"
   ]
  },
  {
   "cell_type": "code",
   "execution_count": 61,
   "metadata": {
    "collapsed": true
   },
   "outputs": [],
   "source": [
    "# Fit the model to the data and call this model lrModel\n",
    "lrModel = lr.fit(train_data)"
   ]
  },
  {
   "cell_type": "code",
   "execution_count": 62,
   "metadata": {},
   "outputs": [
    {
     "name": "stdout",
     "output_type": "stream",
     "text": [
      "Coefficients: [-0.0746549583622,0.0210093186735,-0.329535986141,0.86395614975,2.24889167554,0.113933937898,0.00130756968944] Intercept: -1.9614311761858967\n"
     ]
    }
   ],
   "source": [
    "# Print the coefficients and intercept for linear regression\n",
    "print(\"Coefficients: {} Intercept: {}\".format(lrModel.coefficients,lrModel.intercept))"
   ]
  },
  {
   "cell_type": "code",
   "execution_count": 63,
   "metadata": {
    "collapsed": true
   },
   "outputs": [],
   "source": [
    "test_results = lrModel.evaluate(test_data)"
   ]
  },
  {
   "cell_type": "code",
   "execution_count": 64,
   "metadata": {},
   "outputs": [
    {
     "name": "stdout",
     "output_type": "stream",
     "text": [
      "+--------------------+\n",
      "|           residuals|\n",
      "+--------------------+\n",
      "|6.376340023432903E-4|\n",
      "| -0.3743970384759421|\n",
      "| -0.5594560369944777|\n",
      "|  1.2918705092364409|\n",
      "|-0.38544177771136745|\n",
      "| -0.9059779778791821|\n",
      "|  0.7221487095357286|\n",
      "|    7.31465341888387|\n",
      "|-0.49810573628670607|\n",
      "|-0.07129351064908995|\n",
      "|  0.6562234197638173|\n",
      "|-0.05682172491318571|\n",
      "| 0.21457921707809957|\n",
      "| -1.2618964611452643|\n",
      "|   0.682828174517228|\n",
      "|  0.5373521619429908|\n",
      "|    0.54687668361459|\n",
      "| -1.0711961547324895|\n",
      "|    0.56592572695779|\n",
      "|  0.3775354697549238|\n",
      "+--------------------+\n",
      "only showing top 20 rows\n",
      "\n"
     ]
    }
   ],
   "source": [
    "# Interesting results....\n",
    "test_results.residuals.show()"
   ]
  },
  {
   "cell_type": "code",
   "execution_count": 65,
   "metadata": {},
   "outputs": [
    {
     "name": "stdout",
     "output_type": "stream",
     "text": [
      "RMSE: 1.6503107713336111\n",
      "MSE: 2.7235256419797387\n",
      "RSquared: 0.7868411932070525\n"
     ]
    }
   ],
   "source": [
    "print(\"RMSE: {}\".format(test_results.rootMeanSquaredError))\n",
    "print(\"MSE: {}\".format(test_results.meanSquaredError))\n",
    "print(\"RSquared: {}\".format(test_results.r2))"
   ]
  },
  {
   "cell_type": "markdown",
   "metadata": {},
   "source": [
    "** Step 5: Predict on Test data **"
   ]
  },
  {
   "cell_type": "code",
   "execution_count": 66,
   "metadata": {
    "collapsed": true
   },
   "outputs": [],
   "source": [
    "# Use Spark to read in the testing data\n",
    "ships_test = spark.read.csv(\"cruise_ship_test.csv\",inferSchema=True,header=True)"
   ]
  },
  {
   "cell_type": "code",
   "execution_count": 67,
   "metadata": {},
   "outputs": [
    {
     "name": "stdout",
     "output_type": "stream",
     "text": [
      "+---------+---------------+---+-------+----------+------+------+-----------------+-----+---------------+\n",
      "|Ship_name|    Cruise_line|Age|Tonnage|passengers|length|cabins|passenger_density| crew|CruiseLineIndex|\n",
      "+---------+---------------+---+-------+----------+------+------+-----------------+-----+---------------+\n",
      "|  Liberty|Royal_Caribbean|  6|  158.0|      43.7| 11.25|  18.0|            36.16| 13.6|            0.0|\n",
      "|  Majesty|Royal_Caribbean| 21| 73.941|     27.44|   8.8| 11.75|            26.95| 8.22|            0.0|\n",
      "|  Mariner|Royal_Caribbean| 10|  138.0|     31.14|  10.2| 15.57|            44.32|11.85|            0.0|\n",
      "|  Monarch|Royal_Caribbean| 22| 73.941|     27.44|   8.8| 11.77|            30.94| 8.22|            0.0|\n",
      "|Navigator|Royal_Caribbean| 11|  138.0|     31.14|  10.2| 15.57|            44.32|11.85|            0.0|\n",
      "|    Oasis|Royal_Caribbean|  4|  220.0|      54.0| 11.82|  27.0|            40.74| 21.0|            0.0|\n",
      "| Radiance|Royal_Caribbean| 12|  90.09|     25.01|  9.62|  10.5|            36.02| 8.68|            0.0|\n",
      "| Rhapsody|Royal_Caribbean| 16| 78.491|     24.35|  9.15|  10.0|            32.23| 7.65|            0.0|\n",
      "| Serenade|Royal_Caribbean| 10|  90.09|     25.01|  9.62|  10.5|            36.02| 8.58|            0.0|\n",
      "| Sovreign|Royal_Caribbean| 25| 73.192|     28.52|   8.8| 11.38|            25.66| 8.08|            0.0|\n",
      "|Splendour|Royal_Caribbean| 17|   70.0|     20.76|  8.67|  9.02|            33.72|  7.2|            0.0|\n",
      "|   Vision|Royal_Caribbean| 15| 78.491|     24.35|  9.15|  10.0|            32.23|  6.6|            0.0|\n",
      "|  Voyager|Royal_Caribbean| 14|  138.0|     31.14|  10.2| 15.57|            44.32|11.76|            0.0|\n",
      "|   Legend|       Seabourn| 21|   10.0|      2.08|   4.4|  1.04|            48.08|  1.6|            3.0|\n",
      "|    Pride|       Seabourn| 27|   10.0|      2.08|   4.4|  1.04|            48.08|  1.6|            3.0|\n",
      "|   Spirit|       Seabourn| 24|   10.0|      2.08|   4.4|  1.04|            48.08|  1.6|            3.0|\n",
      "|    Cloud|      Silversea| 19|   16.8|      2.96|  5.14|  1.48|            56.76|  2.1|            2.0|\n",
      "|   Shadow|      Silversea| 13|   25.0|      3.82|  5.97|  1.94|            65.45| 2.95|            2.0|\n",
      "|  Whisper|      Silversea| 12|   25.0|      3.88|  5.97|  1.94|            64.43| 2.87|            2.0|\n",
      "|     Wind|      Silversea| 19|   16.8|      2.96|  5.14|  1.48|            56.76| 1.97|            2.0|\n",
      "+---------+---------------+---+-------+----------+------+------+-----------------+-----+---------------+\n",
      "only showing top 20 rows\n",
      "\n"
     ]
    }
   ],
   "source": [
    "indexer = StringIndexer(inputCol=\"Cruise_line\", outputCol=\"CruiseLineIndex\")\n",
    "ships_test = indexer.fit(ships_test).transform(ships_test)\n",
    "ships_test.show()"
   ]
  },
  {
   "cell_type": "code",
   "execution_count": 68,
   "metadata": {
    "collapsed": true
   },
   "outputs": [],
   "source": [
    "assembler = VectorAssembler(\n",
    "    inputCols=[\"Age\", \"Tonnage\", \"passengers\",\n",
    "               \"length\",\"cabins\",\"passenger_density\"],\n",
    "    outputCol=\"numerical_features\")"
   ]
  },
  {
   "cell_type": "code",
   "execution_count": 69,
   "metadata": {},
   "outputs": [
    {
     "name": "stdout",
     "output_type": "stream",
     "text": [
      "+---------+---------------+---+-------+----------+------+------+-----------------+-----+---------------+--------------------+\n",
      "|Ship_name|    Cruise_line|Age|Tonnage|passengers|length|cabins|passenger_density| crew|CruiseLineIndex|  numerical_features|\n",
      "+---------+---------------+---+-------+----------+------+------+-----------------+-----+---------------+--------------------+\n",
      "|  Liberty|Royal_Caribbean|  6|  158.0|      43.7| 11.25|  18.0|            36.16| 13.6|            0.0|[6.0,158.0,43.7,1...|\n",
      "|  Majesty|Royal_Caribbean| 21| 73.941|     27.44|   8.8| 11.75|            26.95| 8.22|            0.0|[21.0,73.941,27.4...|\n",
      "|  Mariner|Royal_Caribbean| 10|  138.0|     31.14|  10.2| 15.57|            44.32|11.85|            0.0|[10.0,138.0,31.14...|\n",
      "|  Monarch|Royal_Caribbean| 22| 73.941|     27.44|   8.8| 11.77|            30.94| 8.22|            0.0|[22.0,73.941,27.4...|\n",
      "|Navigator|Royal_Caribbean| 11|  138.0|     31.14|  10.2| 15.57|            44.32|11.85|            0.0|[11.0,138.0,31.14...|\n",
      "|    Oasis|Royal_Caribbean|  4|  220.0|      54.0| 11.82|  27.0|            40.74| 21.0|            0.0|[4.0,220.0,54.0,1...|\n",
      "| Radiance|Royal_Caribbean| 12|  90.09|     25.01|  9.62|  10.5|            36.02| 8.68|            0.0|[12.0,90.09,25.01...|\n",
      "| Rhapsody|Royal_Caribbean| 16| 78.491|     24.35|  9.15|  10.0|            32.23| 7.65|            0.0|[16.0,78.491,24.3...|\n",
      "| Serenade|Royal_Caribbean| 10|  90.09|     25.01|  9.62|  10.5|            36.02| 8.58|            0.0|[10.0,90.09,25.01...|\n",
      "| Sovreign|Royal_Caribbean| 25| 73.192|     28.52|   8.8| 11.38|            25.66| 8.08|            0.0|[25.0,73.192,28.5...|\n",
      "|Splendour|Royal_Caribbean| 17|   70.0|     20.76|  8.67|  9.02|            33.72|  7.2|            0.0|[17.0,70.0,20.76,...|\n",
      "|   Vision|Royal_Caribbean| 15| 78.491|     24.35|  9.15|  10.0|            32.23|  6.6|            0.0|[15.0,78.491,24.3...|\n",
      "|  Voyager|Royal_Caribbean| 14|  138.0|     31.14|  10.2| 15.57|            44.32|11.76|            0.0|[14.0,138.0,31.14...|\n",
      "|   Legend|       Seabourn| 21|   10.0|      2.08|   4.4|  1.04|            48.08|  1.6|            3.0|[21.0,10.0,2.08,4...|\n",
      "|    Pride|       Seabourn| 27|   10.0|      2.08|   4.4|  1.04|            48.08|  1.6|            3.0|[27.0,10.0,2.08,4...|\n",
      "|   Spirit|       Seabourn| 24|   10.0|      2.08|   4.4|  1.04|            48.08|  1.6|            3.0|[24.0,10.0,2.08,4...|\n",
      "|    Cloud|      Silversea| 19|   16.8|      2.96|  5.14|  1.48|            56.76|  2.1|            2.0|[19.0,16.8,2.96,5...|\n",
      "|   Shadow|      Silversea| 13|   25.0|      3.82|  5.97|  1.94|            65.45| 2.95|            2.0|[13.0,25.0,3.82,5...|\n",
      "|  Whisper|      Silversea| 12|   25.0|      3.88|  5.97|  1.94|            64.43| 2.87|            2.0|[12.0,25.0,3.88,5...|\n",
      "|     Wind|      Silversea| 19|   16.8|      2.96|  5.14|  1.48|            56.76| 1.97|            2.0|[19.0,16.8,2.96,5...|\n",
      "+---------+---------------+---+-------+----------+------+------+-----------------+-----+---------------+--------------------+\n",
      "only showing top 20 rows\n",
      "\n"
     ]
    }
   ],
   "source": [
    "ships_test = assembler.transform(ships_test)\n",
    "ships_test.show()"
   ]
  },
  {
   "cell_type": "code",
   "execution_count": 70,
   "metadata": {},
   "outputs": [
    {
     "name": "stdout",
     "output_type": "stream",
     "text": [
      "+---------+---------------+---+-------+----------+------+------+-----------------+-----+---------------+--------------------+-------------------------+\n",
      "|Ship_name|    Cruise_line|Age|Tonnage|passengers|length|cabins|passenger_density| crew|CruiseLineIndex|  numerical_features|scaled_numerical_features|\n",
      "+---------+---------------+---+-------+----------+------+------+-----------------+-----+---------------+--------------------+-------------------------+\n",
      "|  Liberty|Royal_Caribbean|  6|  158.0|      43.7| 11.25|  18.0|            36.16| 13.6|            0.0|[6.0,158.0,43.7,1...|     [0.94731348381523...|\n",
      "|  Majesty|Royal_Caribbean| 21| 73.941|     27.44|   8.8| 11.75|            26.95| 8.22|            0.0|[21.0,73.941,27.4...|     [3.31559719335332...|\n",
      "|  Mariner|Royal_Caribbean| 10|  138.0|     31.14|  10.2| 15.57|            44.32|11.85|            0.0|[10.0,138.0,31.14...|     [1.57885580635872...|\n",
      "|  Monarch|Royal_Caribbean| 22| 73.941|     27.44|   8.8| 11.77|            30.94| 8.22|            0.0|[22.0,73.941,27.4...|     [3.47348277398920...|\n",
      "|Navigator|Royal_Caribbean| 11|  138.0|     31.14|  10.2| 15.57|            44.32|11.85|            0.0|[11.0,138.0,31.14...|     [1.73674138699460...|\n",
      "|    Oasis|Royal_Caribbean|  4|  220.0|      54.0| 11.82|  27.0|            40.74| 21.0|            0.0|[4.0,220.0,54.0,1...|     [0.63154232254349...|\n",
      "| Radiance|Royal_Caribbean| 12|  90.09|     25.01|  9.62|  10.5|            36.02| 8.68|            0.0|[12.0,90.09,25.01...|     [1.89462696763047...|\n",
      "| Rhapsody|Royal_Caribbean| 16| 78.491|     24.35|  9.15|  10.0|            32.23| 7.65|            0.0|[16.0,78.491,24.3...|     [2.52616929017396...|\n",
      "| Serenade|Royal_Caribbean| 10|  90.09|     25.01|  9.62|  10.5|            36.02| 8.58|            0.0|[10.0,90.09,25.01...|     [1.57885580635872...|\n",
      "| Sovreign|Royal_Caribbean| 25| 73.192|     28.52|   8.8| 11.38|            25.66| 8.08|            0.0|[25.0,73.192,28.5...|     [3.94713951589682...|\n",
      "|Splendour|Royal_Caribbean| 17|   70.0|     20.76|  8.67|  9.02|            33.72|  7.2|            0.0|[17.0,70.0,20.76,...|     [2.68405487080983...|\n",
      "|   Vision|Royal_Caribbean| 15| 78.491|     24.35|  9.15|  10.0|            32.23|  6.6|            0.0|[15.0,78.491,24.3...|     [2.36828370953809...|\n",
      "|  Voyager|Royal_Caribbean| 14|  138.0|     31.14|  10.2| 15.57|            44.32|11.76|            0.0|[14.0,138.0,31.14...|     [2.21039812890222...|\n",
      "|   Legend|       Seabourn| 21|   10.0|      2.08|   4.4|  1.04|            48.08|  1.6|            3.0|[21.0,10.0,2.08,4...|     [3.31559719335332...|\n",
      "|    Pride|       Seabourn| 27|   10.0|      2.08|   4.4|  1.04|            48.08|  1.6|            3.0|[27.0,10.0,2.08,4...|     [4.26291067716856...|\n",
      "|   Spirit|       Seabourn| 24|   10.0|      2.08|   4.4|  1.04|            48.08|  1.6|            3.0|[24.0,10.0,2.08,4...|     [3.78925393526094...|\n",
      "|    Cloud|      Silversea| 19|   16.8|      2.96|  5.14|  1.48|            56.76|  2.1|            2.0|[19.0,16.8,2.96,5...|     [2.99982603208158...|\n",
      "|   Shadow|      Silversea| 13|   25.0|      3.82|  5.97|  1.94|            65.45| 2.95|            2.0|[13.0,25.0,3.82,5...|     [2.05251254826634...|\n",
      "|  Whisper|      Silversea| 12|   25.0|      3.88|  5.97|  1.94|            64.43| 2.87|            2.0|[12.0,25.0,3.88,5...|     [1.89462696763047...|\n",
      "|     Wind|      Silversea| 19|   16.8|      2.96|  5.14|  1.48|            56.76| 1.97|            2.0|[19.0,16.8,2.96,5...|     [2.99982603208158...|\n",
      "+---------+---------------+---+-------+----------+------+------+-----------------+-----+---------------+--------------------+-------------------------+\n",
      "only showing top 20 rows\n",
      "\n"
     ]
    }
   ],
   "source": [
    "scaler = StandardScaler(inputCol=\"numerical_features\",\n",
    "                        outputCol=\"scaled_numerical_features\",\n",
    "                        withStd=True, withMean=False)\n",
    "\n",
    "# Compute summary statistics by fitting the StandardScaler\n",
    "scalerModel = scaler.fit(ships_test)\n",
    "\n",
    "# Normalize each feature to have unit standard deviation.\n",
    "ships_test = scalerModel.transform(ships_test)\n",
    "ships_test.show()"
   ]
  },
  {
   "cell_type": "code",
   "execution_count": 71,
   "metadata": {
    "collapsed": true
   },
   "outputs": [],
   "source": [
    "# A few things we need to do before Spark can accept the data!\n",
    "# It needs to be in the form of two columns\n",
    "# (\"label\",\"features\")\n",
    "assembler = VectorAssembler(\n",
    "    inputCols=[\"scaled_numerical_features\",\"CruiseLineIndex\"],\n",
    "    outputCol=\"features\")"
   ]
  },
  {
   "cell_type": "code",
   "execution_count": 72,
   "metadata": {
    "collapsed": true
   },
   "outputs": [],
   "source": [
    "ships_test_Final = assembler.transform(ships_test)"
   ]
  },
  {
   "cell_type": "code",
   "execution_count": 73,
   "metadata": {},
   "outputs": [
    {
     "name": "stdout",
     "output_type": "stream",
     "text": [
      "+---------+---------------+---+-------+----------+------+------+-----------------+-----+---------------+--------------------+-------------------------+--------------------+\n",
      "|Ship_name|    Cruise_line|Age|Tonnage|passengers|length|cabins|passenger_density| crew|CruiseLineIndex|  numerical_features|scaled_numerical_features|            features|\n",
      "+---------+---------------+---+-------+----------+------+------+-----------------+-----+---------------+--------------------+-------------------------+--------------------+\n",
      "|  Liberty|Royal_Caribbean|  6|  158.0|      43.7| 11.25|  18.0|            36.16| 13.6|            0.0|[6.0,158.0,43.7,1...|     [0.94731348381523...|[0.94731348381523...|\n",
      "|  Majesty|Royal_Caribbean| 21| 73.941|     27.44|   8.8| 11.75|            26.95| 8.22|            0.0|[21.0,73.941,27.4...|     [3.31559719335332...|[3.31559719335332...|\n",
      "|  Mariner|Royal_Caribbean| 10|  138.0|     31.14|  10.2| 15.57|            44.32|11.85|            0.0|[10.0,138.0,31.14...|     [1.57885580635872...|[1.57885580635872...|\n",
      "|  Monarch|Royal_Caribbean| 22| 73.941|     27.44|   8.8| 11.77|            30.94| 8.22|            0.0|[22.0,73.941,27.4...|     [3.47348277398920...|[3.47348277398920...|\n",
      "|Navigator|Royal_Caribbean| 11|  138.0|     31.14|  10.2| 15.57|            44.32|11.85|            0.0|[11.0,138.0,31.14...|     [1.73674138699460...|[1.73674138699460...|\n",
      "|    Oasis|Royal_Caribbean|  4|  220.0|      54.0| 11.82|  27.0|            40.74| 21.0|            0.0|[4.0,220.0,54.0,1...|     [0.63154232254349...|[0.63154232254349...|\n",
      "| Radiance|Royal_Caribbean| 12|  90.09|     25.01|  9.62|  10.5|            36.02| 8.68|            0.0|[12.0,90.09,25.01...|     [1.89462696763047...|[1.89462696763047...|\n",
      "| Rhapsody|Royal_Caribbean| 16| 78.491|     24.35|  9.15|  10.0|            32.23| 7.65|            0.0|[16.0,78.491,24.3...|     [2.52616929017396...|[2.52616929017396...|\n",
      "| Serenade|Royal_Caribbean| 10|  90.09|     25.01|  9.62|  10.5|            36.02| 8.58|            0.0|[10.0,90.09,25.01...|     [1.57885580635872...|[1.57885580635872...|\n",
      "| Sovreign|Royal_Caribbean| 25| 73.192|     28.52|   8.8| 11.38|            25.66| 8.08|            0.0|[25.0,73.192,28.5...|     [3.94713951589682...|[3.94713951589682...|\n",
      "|Splendour|Royal_Caribbean| 17|   70.0|     20.76|  8.67|  9.02|            33.72|  7.2|            0.0|[17.0,70.0,20.76,...|     [2.68405487080983...|[2.68405487080983...|\n",
      "|   Vision|Royal_Caribbean| 15| 78.491|     24.35|  9.15|  10.0|            32.23|  6.6|            0.0|[15.0,78.491,24.3...|     [2.36828370953809...|[2.36828370953809...|\n",
      "|  Voyager|Royal_Caribbean| 14|  138.0|     31.14|  10.2| 15.57|            44.32|11.76|            0.0|[14.0,138.0,31.14...|     [2.21039812890222...|[2.21039812890222...|\n",
      "|   Legend|       Seabourn| 21|   10.0|      2.08|   4.4|  1.04|            48.08|  1.6|            3.0|[21.0,10.0,2.08,4...|     [3.31559719335332...|[3.31559719335332...|\n",
      "|    Pride|       Seabourn| 27|   10.0|      2.08|   4.4|  1.04|            48.08|  1.6|            3.0|[27.0,10.0,2.08,4...|     [4.26291067716856...|[4.26291067716856...|\n",
      "|   Spirit|       Seabourn| 24|   10.0|      2.08|   4.4|  1.04|            48.08|  1.6|            3.0|[24.0,10.0,2.08,4...|     [3.78925393526094...|[3.78925393526094...|\n",
      "|    Cloud|      Silversea| 19|   16.8|      2.96|  5.14|  1.48|            56.76|  2.1|            2.0|[19.0,16.8,2.96,5...|     [2.99982603208158...|[2.99982603208158...|\n",
      "|   Shadow|      Silversea| 13|   25.0|      3.82|  5.97|  1.94|            65.45| 2.95|            2.0|[13.0,25.0,3.82,5...|     [2.05251254826634...|[2.05251254826634...|\n",
      "|  Whisper|      Silversea| 12|   25.0|      3.88|  5.97|  1.94|            64.43| 2.87|            2.0|[12.0,25.0,3.88,5...|     [1.89462696763047...|[1.89462696763047...|\n",
      "|     Wind|      Silversea| 19|   16.8|      2.96|  5.14|  1.48|            56.76| 1.97|            2.0|[19.0,16.8,2.96,5...|     [2.99982603208158...|[2.99982603208158...|\n",
      "+---------+---------------+---+-------+----------+------+------+-----------------+-----+---------------+--------------------+-------------------------+--------------------+\n",
      "only showing top 20 rows\n",
      "\n"
     ]
    }
   ],
   "source": [
    "ships_test_Final.show()"
   ]
  },
  {
   "cell_type": "code",
   "execution_count": 74,
   "metadata": {
    "collapsed": true
   },
   "outputs": [],
   "source": [
    "final_data_test = ships_test_Final.select(\"features\")"
   ]
  },
  {
   "cell_type": "code",
   "execution_count": 75,
   "metadata": {
    "collapsed": true
   },
   "outputs": [],
   "source": [
    "predictions = lrModel.transform(final_data_test)"
   ]
  },
  {
   "cell_type": "code",
   "execution_count": 76,
   "metadata": {},
   "outputs": [
    {
     "name": "stdout",
     "output_type": "stream",
     "text": [
      "+--------------------+--------------------+\n",
      "|            features|          prediction|\n",
      "+--------------------+--------------------+\n",
      "|[0.94731348381523...|   7.113161336166961|\n",
      "|[3.31559719335332...|   4.288233561507203|\n",
      "|[1.57885580635872...|   6.268263608786496|\n",
      "|[3.47348277398920...|   4.323437067758272|\n",
      "|[1.73674138699460...|   6.256476667338136|\n",
      "|[0.63154232254349...|  10.160454540001936|\n",
      "|[1.89462696763047...|   4.400673478219362|\n",
      "|[2.52616929017396...|   4.004229909669224|\n",
      "|[1.57885580635872...|   4.424247361116082|\n",
      "|[3.94713951589682...|   4.080175586179859|\n",
      "|[2.68405487080983...|  3.6004819619861412|\n",
      "|[2.36828370953809...|   4.016016851117584|\n",
      "|[2.21039812890222...|   6.221115842993054|\n",
      "|[3.31559719335332...| 0.03466256198301121|\n",
      "|[4.26291067716856...|-0.03605908670715019|\n",
      "|[3.78925393526094...|-6.98262362069268...|\n",
      "|[2.99982603208158...|  0.5179003535744204|\n",
      "|[2.05251254826634...|  1.0870010269947694|\n",
      "|[1.89462696763047...|   1.087127037164676|\n",
      "|[2.99982603208158...|  0.5179003535744204|\n",
      "+--------------------+--------------------+\n",
      "only showing top 20 rows\n",
      "\n"
     ]
    }
   ],
   "source": [
    "predictions.show()"
   ]
  },
  {
   "cell_type": "code",
   "execution_count": null,
   "metadata": {
    "collapsed": true
   },
   "outputs": [],
   "source": []
  }
 ],
 "metadata": {
  "anaconda-cloud": {},
  "kernelspec": {
   "display_name": "Python [Root]",
   "language": "python",
   "name": "Python [Root]"
  },
  "language_info": {
   "codemirror_mode": {
    "name": "ipython",
    "version": 3
   },
   "file_extension": ".py",
   "mimetype": "text/x-python",
   "name": "python",
   "nbconvert_exporter": "python",
   "pygments_lexer": "ipython3",
   "version": "3.5.2"
  }
 },
 "nbformat": 4,
 "nbformat_minor": 2
}
