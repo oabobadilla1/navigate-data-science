{
 "cells": [
  {
   "cell_type": "markdown",
   "metadata": {},
   "source": [
    "## Category-7: Bayesian Inference for Marketing signups\n",
    "\n",
    "> ChildrenBox is a company that sells educational kits to children. They have a subscription based business by which customers who sign up for the service receive one educational kit every month. The marketing department have done a pilot study and tried the following marketing method:\n",
    "\n",
    "> A: Sending a mail with a colorful brochure that invites people to sign up for a one year kit subscription.\n",
    "\n",
    "\n",
    "The marketing department sent out 30 mails of type A. Twelve (12) customers that received a mail signed up for one year and marketing now wants to know, how good is method A?"
   ]
  },
  {
   "cell_type": "markdown",
   "metadata": {},
   "source": [
    "** Question I, Build a Bayesian model that answers the question: What would the rate of sign-up be if method A was used on a larger number of people? **"
   ]
  },
  {
   "cell_type": "code",
   "execution_count": 1,
   "metadata": {
    "collapsed": true
   },
   "outputs": [],
   "source": [
    "import pandas as pd\n",
    "import numpy as  np\n",
    "import matplotlib.pyplot as plt\n",
    "%matplotlib inline"
   ]
  },
  {
   "cell_type": "code",
   "execution_count": 2,
   "metadata": {},
   "outputs": [
    {
     "data": {
      "text/plain": [
       "<matplotlib.axes._subplots.AxesSubplot at 0x1b667da7eb8>"
      ]
     },
     "execution_count": 2,
     "metadata": {},
     "output_type": "execute_result"
    },
    {
     "data": {
      "image/png": "[encoded data removed]",
      "text/plain": [
       "<matplotlib.figure.Figure at 0x1b667da7630>"
      ]
     },
     "metadata": {},
     "output_type": "display_data"
    }
   ],
   "source": [
    "# Step 1: Modeling the prior - which is the belief that we have on the rate of sign-ups before we see the data\n",
    "# In this case prior is assumed to be a uniform distribution between 0&1-i.e.any rate of signups between 0 & 1 are equally likely\n",
    "\n",
    "# Number of draws from the prior\n",
    "num_draws = 10000\n",
    "\n",
    "# Each draw from the prior\n",
    "sign_up_rate_prior = pd.Series(np.random.uniform(0,1,num_draws))\n",
    "\n",
    "sign_up_rate_prior.hist()"
   ]
  },
  {
   "cell_type": "code",
   "execution_count": 3,
   "metadata": {
    "collapsed": true
   },
   "outputs": [],
   "source": [
    "# Step 2: Define a generative model\n",
    "def generative_model(n,p):\n",
    "    number_success = np.random.binomial(n,p)\n",
    "    return number_success"
   ]
  },
  {
   "cell_type": "code",
   "execution_count": 4,
   "metadata": {
    "collapsed": true
   },
   "outputs": [],
   "source": [
    "# Step 3: Simulate the data from the prior and the generative model\n",
    "number_of_emails = 60\n",
    "sim_data = list()\n",
    "for p in sign_up_rate_prior:\n",
    "    sim_data.append(generative_model(number_of_emails,p))"
   ]
  },
  {
   "cell_type": "code",
   "execution_count": 5,
   "metadata": {},
   "outputs": [
    {
     "data": {
      "text/plain": [
       "<matplotlib.axes._subplots.AxesSubplot at 0x1b667e8c5f8>"
      ]
     },
     "execution_count": 5,
     "metadata": {},
     "output_type": "execute_result"
    },
    {
     "data": {
      "image/png": "[encoded data removed]",
      "text/plain": [
       "<matplotlib.figure.Figure at 0x1b667dd0550>"
      ]
     },
     "metadata": {},
     "output_type": "display_data"
    }
   ],
   "source": [
    "# Step 4: Get the posterior distribution \n",
    "# Approximate Bayesian computation - Here you filter off all draws that do not match the data.\n",
    "observed_data = 12 # Number of people actually signed up\n",
    "sign_up_rate_posterior = sign_up_rate_prior[list(map(lambda x: x == observed_data, sim_data))]\n",
    "\n",
    "sign_up_rate_posterior.hist() # Eyeball the posterior"
   ]
  },
  {
   "cell_type": "code",
   "execution_count": 6,
   "metadata": {},
   "outputs": [
    {
     "name": "stdout",
     "output_type": "stream",
     "text": [
      "Number of draws left: 127, Posterior median: 0.210, Posterior quantile interval: 0.113-0.333\n"
     ]
    }
   ],
   "source": [
    "# Summarize the posterior, where a common summary is to take the mean or the median posterior, \n",
    "# and perhaps a 95% quantile interval.\n",
    "\n",
    "\n",
    "print('Number of draws left: %d, Posterior median: %.3f, Posterior quantile interval: %.3f-%.3f' % \n",
    "      (len(sign_up_rate_posterior), sign_up_rate_posterior.median(), sign_up_rate_posterior.quantile(.025), \n",
    "       sign_up_rate_posterior.quantile(.975)))"
   ]
  },
  {
   "cell_type": "markdown",
   "metadata": {},
   "source": [
    "** Question II, How many people will sign-up if this method was used for 100 people **"
   ]
  },
  {
   "cell_type": "code",
   "execution_count": 7,
   "metadata": {},
   "outputs": [
    {
     "name": "stdout",
     "output_type": "stream",
     "text": [
      "Likely number of people to signup 21\n",
      "Sign-up 95% quantile interval 16-25\n"
     ]
    },
    {
     "data": {
      "image/png": "[encoded data removed]",
      "text/plain": [
       "<matplotlib.figure.Figure at 0x1b667f14668>"
      ]
     },
     "metadata": {},
     "output_type": "display_data"
    }
   ],
   "source": [
    "# This can be done with a for loop\n",
    "number_of_people = 100\n",
    "signups = list()\n",
    "\n",
    "for p in sign_up_rate_posterior:\n",
    "    signups.append(np.random.binomial(number_of_people, p))\n",
    "\n",
    "signups = pd.Series(signups)\n",
    "signups.hist()\n",
    "print('Likely number of people to signup %d' %signups.median())\n",
    "print('Sign-up 95%% quantile interval %d-%d' % tuple(signups.quantile([.25, .75]).values))"
   ]
  },
  {
   "cell_type": "markdown",
   "metadata": {},
   "source": [
    "** This is a simple example of using Bayesian inference in a business setting. Watch out for more notebooks on this topic using Stan, PyMC3 etc. **"
   ]
  },
  {
   "cell_type": "code",
   "execution_count": null,
   "metadata": {
    "collapsed": true
   },
   "outputs": [],
   "source": []
  }
 ],
 "metadata": {
  "kernelspec": {
   "display_name": "Python [Root]",
   "language": "python",
   "name": "Python [Root]"
  },
  "language_info": {
   "codemirror_mode": {
    "name": "ipython",
    "version": 3
   },
   "file_extension": ".py",
   "mimetype": "text/x-python",
   "name": "python",
   "nbconvert_exporter": "python",
   "pygments_lexer": "ipython3",
   "version": "3.5.2"
  }
 },
 "nbformat": 4,
 "nbformat_minor": 2
}
