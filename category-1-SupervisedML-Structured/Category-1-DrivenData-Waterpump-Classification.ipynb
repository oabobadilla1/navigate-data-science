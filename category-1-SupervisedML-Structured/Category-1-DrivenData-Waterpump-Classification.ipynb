{
 "cells": [
  {
   "cell_type": "markdown",
   "metadata": {},
   "source": [
    "## Category-1: Supervised Machine Learning on Structured Data\n",
    "\n",
    "> There are 2 categories of problems - Regression(predict continuous variables), Classification (predict categories). This notebook shows an example of Classification\n",
    "\n",
    "> Please note that this is just illustrative as to the steps to be taken to solve such problems. The focus is not getting the best possible performance.\n",
    "\n",
    "> Dataset for this illustration is obtained from drivendata.org\n",
    "\n",
    "> https://www.drivendata.org/competitions/7/pump-it-up-data-mining-the-water-table/ - Using data from Taarifa and the Tanzanian Ministry of Water, can you predict which pumps are functional, which need some repairs, and which don't work at all? A smart understanding of which waterpoints will fail can improve maintenance operations and ensure that clean, potable water is available to communities across Tanzania."
   ]
  },
  {
   "cell_type": "markdown",
   "metadata": {},
   "source": [
    "#### Step 1: Load Libraries"
   ]
  },
  {
   "cell_type": "code",
   "execution_count": 1,
   "metadata": {
    "collapsed": true
   },
   "outputs": [],
   "source": [
    "# Step 1: Load Libraries\n",
    "import pandas as pd\n",
    "import numpy as np\n",
    "import matplotlib.pyplot as plt\n",
    "%matplotlib inline\n",
    "import seaborn as sns\n",
    "color = sns.color_palette()\n",
    "\n",
    "import warnings\n",
    "warnings.simplefilter('ignore')\n",
    "import bisect\n",
    "\n",
    "from sklearn.preprocessing import Imputer\n",
    "from sklearn.base import TransformerMixin\n",
    "from sklearn.preprocessing import LabelEncoder\n",
    "from sklearn.preprocessing import MinMaxScaler\n",
    "from sklearn.preprocessing import StandardScaler\n",
    "from sklearn.preprocessing import Normalizer\n",
    "from scipy import stats\n",
    "\n",
    "from sklearn.feature_selection import SelectFromModel"
   ]
  },
  {
   "cell_type": "code",
   "execution_count": 2,
   "metadata": {
    "collapsed": true
   },
   "outputs": [],
   "source": [
    "# Step 1.1: Functions to handle missing values\n",
    "def num_missing(x):\n",
    "  return sum(x.isnull())\n",
    "\n",
    "class DataFrameImputer(TransformerMixin):\n",
    "\n",
    "    def __init__(self):\n",
    "        \"\"\"Impute missing values.\n",
    "\n",
    "        Columns of dtype object are imputed with the most frequent value \n",
    "        in column.\n",
    "\n",
    "        Columns of other types are imputed with mean of column.\n",
    "\n",
    "        \"\"\"\n",
    "    def fit(self, X, y=None):\n",
    "\n",
    "        self.fill = pd.Series([X[c].value_counts().index[0]\n",
    "            if X[c].dtype == np.dtype('O') else X[c].mean() for c in X],\n",
    "            index=X.columns)\n",
    "\n",
    "        return self\n",
    "\n",
    "    def transform(self, X, y=None):\n",
    "        return X.fillna(self.fill)"
   ]
  },
  {
   "cell_type": "markdown",
   "metadata": {},
   "source": [
    "### Step 2: Load Training data"
   ]
  },
  {
   "cell_type": "code",
   "execution_count": 3,
   "metadata": {
    "collapsed": true
   },
   "outputs": [],
   "source": [
    "# Step 2: Load Training dataset\n",
    "train_features_filename = '../0.datasets/DD-WaterPump-Train-Features.csv'\n",
    "train_labels_filename = '../0.datasets/DD-WaterPump-Train-Labels.csv'\n",
    "train_features = pd.read_csv(train_features_filename, header=0,na_values='')\n",
    "train_labels = pd.read_csv(train_labels_filename, header=0,na_values='')\n",
    "train_df_original = pd.merge(train_features, train_labels, on='id',how='inner',sort=False)"
   ]
  },
  {
   "cell_type": "code",
   "execution_count": 4,
   "metadata": {},
   "outputs": [
    {
     "data": {
      "text/html": [
       "<div>\n",
       "<style>\n",
       "    .dataframe thead tr:only-child th {\n",
       "        text-align: right;\n",
       "    }\n",
       "\n",
       "    .dataframe thead th {\n",
       "        text-align: left;\n",
       "    }\n",
       "\n",
       "    .dataframe tbody tr th {\n",
       "        vertical-align: top;\n",
       "    }\n",
       "</style>\n",
       "<table border=\"1\" class=\"dataframe\">\n",
       "  <thead>\n",
       "    <tr style=\"text-align: right;\">\n",
       "      <th></th>\n",
       "      <th>id</th>\n",
       "      <th>amount_tsh</th>\n",
       "      <th>date_recorded</th>\n",
       "      <th>funder</th>\n",
       "      <th>gps_height</th>\n",
       "      <th>installer</th>\n",
       "      <th>longitude</th>\n",
       "      <th>latitude</th>\n",
       "      <th>wpt_name</th>\n",
       "      <th>num_private</th>\n",
       "      <th>...</th>\n",
       "      <th>water_quality</th>\n",
       "      <th>quality_group</th>\n",
       "      <th>quantity</th>\n",
       "      <th>quantity_group</th>\n",
       "      <th>source</th>\n",
       "      <th>source_type</th>\n",
       "      <th>source_class</th>\n",
       "      <th>waterpoint_type</th>\n",
       "      <th>waterpoint_type_group</th>\n",
       "      <th>status_group</th>\n",
       "    </tr>\n",
       "  </thead>\n",
       "  <tbody>\n",
       "    <tr>\n",
       "      <th>0</th>\n",
       "      <td>69572</td>\n",
       "      <td>6000.0</td>\n",
       "      <td>2011-03-14</td>\n",
       "      <td>Roman</td>\n",
       "      <td>1390</td>\n",
       "      <td>Roman</td>\n",
       "      <td>34.938093</td>\n",
       "      <td>-9.856322</td>\n",
       "      <td>none</td>\n",
       "      <td>0</td>\n",
       "      <td>...</td>\n",
       "      <td>soft</td>\n",
       "      <td>good</td>\n",
       "      <td>enough</td>\n",
       "      <td>enough</td>\n",
       "      <td>spring</td>\n",
       "      <td>spring</td>\n",
       "      <td>groundwater</td>\n",
       "      <td>communal standpipe</td>\n",
       "      <td>communal standpipe</td>\n",
       "      <td>functional</td>\n",
       "    </tr>\n",
       "    <tr>\n",
       "      <th>1</th>\n",
       "      <td>8776</td>\n",
       "      <td>0.0</td>\n",
       "      <td>2013-03-06</td>\n",
       "      <td>Grumeti</td>\n",
       "      <td>1399</td>\n",
       "      <td>GRUMETI</td>\n",
       "      <td>34.698766</td>\n",
       "      <td>-2.147466</td>\n",
       "      <td>Zahanati</td>\n",
       "      <td>0</td>\n",
       "      <td>...</td>\n",
       "      <td>soft</td>\n",
       "      <td>good</td>\n",
       "      <td>insufficient</td>\n",
       "      <td>insufficient</td>\n",
       "      <td>rainwater harvesting</td>\n",
       "      <td>rainwater harvesting</td>\n",
       "      <td>surface</td>\n",
       "      <td>communal standpipe</td>\n",
       "      <td>communal standpipe</td>\n",
       "      <td>functional</td>\n",
       "    </tr>\n",
       "    <tr>\n",
       "      <th>2</th>\n",
       "      <td>34310</td>\n",
       "      <td>25.0</td>\n",
       "      <td>2013-02-25</td>\n",
       "      <td>Lottery Club</td>\n",
       "      <td>686</td>\n",
       "      <td>World vision</td>\n",
       "      <td>37.460664</td>\n",
       "      <td>-3.821329</td>\n",
       "      <td>Kwa Mahundi</td>\n",
       "      <td>0</td>\n",
       "      <td>...</td>\n",
       "      <td>soft</td>\n",
       "      <td>good</td>\n",
       "      <td>enough</td>\n",
       "      <td>enough</td>\n",
       "      <td>dam</td>\n",
       "      <td>dam</td>\n",
       "      <td>surface</td>\n",
       "      <td>communal standpipe multiple</td>\n",
       "      <td>communal standpipe</td>\n",
       "      <td>functional</td>\n",
       "    </tr>\n",
       "    <tr>\n",
       "      <th>3</th>\n",
       "      <td>67743</td>\n",
       "      <td>0.0</td>\n",
       "      <td>2013-01-28</td>\n",
       "      <td>Unicef</td>\n",
       "      <td>263</td>\n",
       "      <td>UNICEF</td>\n",
       "      <td>38.486161</td>\n",
       "      <td>-11.155298</td>\n",
       "      <td>Zahanati Ya Nanyumbu</td>\n",
       "      <td>0</td>\n",
       "      <td>...</td>\n",
       "      <td>soft</td>\n",
       "      <td>good</td>\n",
       "      <td>dry</td>\n",
       "      <td>dry</td>\n",
       "      <td>machine dbh</td>\n",
       "      <td>borehole</td>\n",
       "      <td>groundwater</td>\n",
       "      <td>communal standpipe multiple</td>\n",
       "      <td>communal standpipe</td>\n",
       "      <td>non functional</td>\n",
       "    </tr>\n",
       "    <tr>\n",
       "      <th>4</th>\n",
       "      <td>19728</td>\n",
       "      <td>0.0</td>\n",
       "      <td>2011-07-13</td>\n",
       "      <td>Action In A</td>\n",
       "      <td>0</td>\n",
       "      <td>Artisan</td>\n",
       "      <td>31.130847</td>\n",
       "      <td>-1.825359</td>\n",
       "      <td>Shuleni</td>\n",
       "      <td>0</td>\n",
       "      <td>...</td>\n",
       "      <td>soft</td>\n",
       "      <td>good</td>\n",
       "      <td>seasonal</td>\n",
       "      <td>seasonal</td>\n",
       "      <td>rainwater harvesting</td>\n",
       "      <td>rainwater harvesting</td>\n",
       "      <td>surface</td>\n",
       "      <td>communal standpipe</td>\n",
       "      <td>communal standpipe</td>\n",
       "      <td>functional</td>\n",
       "    </tr>\n",
       "  </tbody>\n",
       "</table>\n",
       "<p>5 rows × 41 columns</p>\n",
       "</div>"
      ],
      "text/plain": [
       "      id  amount_tsh date_recorded        funder  gps_height     installer  \\\n",
       "0  69572      6000.0    2011-03-14         Roman        1390         Roman   \n",
       "1   8776         0.0    2013-03-06       Grumeti        1399       GRUMETI   \n",
       "2  34310        25.0    2013-02-25  Lottery Club         686  World vision   \n",
       "3  67743         0.0    2013-01-28        Unicef         263        UNICEF   \n",
       "4  19728         0.0    2011-07-13   Action In A           0       Artisan   \n",
       "\n",
       "   longitude   latitude              wpt_name  num_private       ...        \\\n",
       "0  34.938093  -9.856322                  none            0       ...         \n",
       "1  34.698766  -2.147466              Zahanati            0       ...         \n",
       "2  37.460664  -3.821329           Kwa Mahundi            0       ...         \n",
       "3  38.486161 -11.155298  Zahanati Ya Nanyumbu            0       ...         \n",
       "4  31.130847  -1.825359               Shuleni            0       ...         \n",
       "\n",
       "  water_quality quality_group      quantity  quantity_group  \\\n",
       "0          soft          good        enough          enough   \n",
       "1          soft          good  insufficient    insufficient   \n",
       "2          soft          good        enough          enough   \n",
       "3          soft          good           dry             dry   \n",
       "4          soft          good      seasonal        seasonal   \n",
       "\n",
       "                 source           source_type source_class  \\\n",
       "0                spring                spring  groundwater   \n",
       "1  rainwater harvesting  rainwater harvesting      surface   \n",
       "2                   dam                   dam      surface   \n",
       "3           machine dbh              borehole  groundwater   \n",
       "4  rainwater harvesting  rainwater harvesting      surface   \n",
       "\n",
       "               waterpoint_type waterpoint_type_group    status_group  \n",
       "0           communal standpipe    communal standpipe      functional  \n",
       "1           communal standpipe    communal standpipe      functional  \n",
       "2  communal standpipe multiple    communal standpipe      functional  \n",
       "3  communal standpipe multiple    communal standpipe  non functional  \n",
       "4           communal standpipe    communal standpipe      functional  \n",
       "\n",
       "[5 rows x 41 columns]"
      ]
     },
     "execution_count": 4,
     "metadata": {},
     "output_type": "execute_result"
    }
   ],
   "source": [
    "train_df_original.head()"
   ]
  },
  {
   "cell_type": "markdown",
   "metadata": {},
   "source": [
    "### Step 3: Data Exploration"
   ]
  },
  {
   "cell_type": "code",
   "execution_count": 5,
   "metadata": {
    "collapsed": true
   },
   "outputs": [],
   "source": [
    "# Step 3: Data Exploration\n",
    "# There are 41 columns - 1 Target (status_group), 1 id, 9 numerical and 30 categorical\n",
    "# Univariate & Bivariate analysis of columns are done to select relevant variables. \n",
    "# Some examples are shown below"
   ]
  },
  {
   "cell_type": "code",
   "execution_count": 6,
   "metadata": {},
   "outputs": [
    {
     "data": {
      "image/png": "[encoded data removed]",
      "text/plain": [
       "<matplotlib.figure.Figure at 0x252155f1e48>"
      ]
     },
     "metadata": {},
     "output_type": "display_data"
    }
   ],
   "source": [
    "# Target Variable\n",
    "status_group = train_df_original['status_group'].value_counts()\n",
    "\n",
    "plt.figure(figsize=(8,4))\n",
    "ax=sns.barplot(status_group.index, status_group.values, alpha=0.8, color=color[1])\n",
    "\n",
    "for p in ax.patches:\n",
    "    ax.annotate(str(p.get_height()), (p.get_x() * 1.01, p.get_height() * 1.005))\n",
    "\n",
    "plt.ylabel('Number of Occurrences', fontsize=12)\n",
    "plt.xlabel('Status Group', fontsize=12)\n",
    "plt.show()"
   ]
  },
  {
   "cell_type": "code",
   "execution_count": 7,
   "metadata": {},
   "outputs": [
    {
     "data": {
      "image/png": "[encoded data removed]",
      "text/plain": [
       "<matplotlib.figure.Figure at 0x252156af0b8>"
      ]
     },
     "metadata": {},
     "output_type": "display_data"
    }
   ],
   "source": [
    "# Countplot of Region\n",
    "# Using Region for countplot\n",
    "plt.figure(figsize=(12,12))\n",
    "sns.countplot(y='region', hue='status_group', data=train_df_original)\n",
    "plt.ylabel('Region', fontsize=12)\n",
    "plt.xlabel('Number of Occurences', fontsize=12)\n",
    "plt.show()"
   ]
  },
  {
   "cell_type": "code",
   "execution_count": 8,
   "metadata": {},
   "outputs": [
    {
     "name": "stdout",
     "output_type": "stream",
     "text": [
      "count    59400.000000\n",
      "mean       668.297239\n",
      "std        693.116350\n",
      "min        -90.000000\n",
      "25%          0.000000\n",
      "50%        369.000000\n",
      "75%       1319.250000\n",
      "max       2770.000000\n",
      "Name: gps_height, dtype: float64\n"
     ]
    },
    {
     "data": {
      "image/png": "[encoded data removed]",
      "text/plain": [
       "<matplotlib.figure.Figure at 0x25214ec2630>"
      ]
     },
     "metadata": {},
     "output_type": "display_data"
    }
   ],
   "source": [
    "# GPS Height\n",
    "print(train_df_original['gps_height'].describe())\n",
    "\n",
    "ulimit = np.percentile(train_df_original.gps_height.values, 99)\n",
    "train_df_original['gps_height'].ix[train_df_original['gps_height']>ulimit] = ulimit\n",
    "\n",
    "plt.figure(figsize=(8,6))\n",
    "sns.distplot(train_df_original.gps_height.values, bins=50, kde=False)\n",
    "plt.xlabel('GPS Height', fontsize=12)\n",
    "plt.show()"
   ]
  },
  {
   "cell_type": "markdown",
   "metadata": {},
   "source": [
    "** GPS Height signifies the altitude of the well. So it cannot be zero. Can be imputed with the median value **"
   ]
  },
  {
   "cell_type": "code",
   "execution_count": 9,
   "metadata": {},
   "outputs": [
    {
     "data": {
      "image/png": "[encoded data removed]",
      "text/plain": [
       "<matplotlib.figure.Figure at 0x252157199e8>"
      ]
     },
     "metadata": {},
     "output_type": "display_data"
    }
   ],
   "source": [
    "#correlation matrix\n",
    "corrmat = train_df_original.corr()\n",
    "f, ax = plt.subplots(figsize=(12, 9))\n",
    "sns.heatmap(corrmat, vmax=.8, square=True);"
   ]
  },
  {
   "cell_type": "markdown",
   "metadata": {},
   "source": [
    "Data Exploration is a broad area on its own. Assuming that you have explored all the variables appropriately, the following variables are selected for further modeling"
   ]
  },
  {
   "cell_type": "code",
   "execution_count": 10,
   "metadata": {},
   "outputs": [
    {
     "data": {
      "text/html": [
       "<div>\n",
       "<style>\n",
       "    .dataframe thead tr:only-child th {\n",
       "        text-align: right;\n",
       "    }\n",
       "\n",
       "    .dataframe thead th {\n",
       "        text-align: left;\n",
       "    }\n",
       "\n",
       "    .dataframe tbody tr th {\n",
       "        vertical-align: top;\n",
       "    }\n",
       "</style>\n",
       "<table border=\"1\" class=\"dataframe\">\n",
       "  <thead>\n",
       "    <tr style=\"text-align: right;\">\n",
       "      <th></th>\n",
       "      <th>gps_height</th>\n",
       "      <th>ward</th>\n",
       "      <th>lga</th>\n",
       "      <th>population</th>\n",
       "      <th>latitude</th>\n",
       "      <th>longitude</th>\n",
       "      <th>status_group</th>\n",
       "    </tr>\n",
       "  </thead>\n",
       "  <tbody>\n",
       "    <tr>\n",
       "      <th>0</th>\n",
       "      <td>1390.0</td>\n",
       "      <td>Mundindi</td>\n",
       "      <td>Ludewa</td>\n",
       "      <td>109</td>\n",
       "      <td>-9.856322</td>\n",
       "      <td>34.938093</td>\n",
       "      <td>functional</td>\n",
       "    </tr>\n",
       "    <tr>\n",
       "      <th>1</th>\n",
       "      <td>1399.0</td>\n",
       "      <td>Natta</td>\n",
       "      <td>Serengeti</td>\n",
       "      <td>280</td>\n",
       "      <td>-2.147466</td>\n",
       "      <td>34.698766</td>\n",
       "      <td>functional</td>\n",
       "    </tr>\n",
       "    <tr>\n",
       "      <th>2</th>\n",
       "      <td>686.0</td>\n",
       "      <td>Ngorika</td>\n",
       "      <td>Simanjiro</td>\n",
       "      <td>250</td>\n",
       "      <td>-3.821329</td>\n",
       "      <td>37.460664</td>\n",
       "      <td>functional</td>\n",
       "    </tr>\n",
       "    <tr>\n",
       "      <th>3</th>\n",
       "      <td>263.0</td>\n",
       "      <td>Nanyumbu</td>\n",
       "      <td>Nanyumbu</td>\n",
       "      <td>58</td>\n",
       "      <td>-11.155298</td>\n",
       "      <td>38.486161</td>\n",
       "      <td>non functional</td>\n",
       "    </tr>\n",
       "    <tr>\n",
       "      <th>4</th>\n",
       "      <td>0.0</td>\n",
       "      <td>Nyakasimbi</td>\n",
       "      <td>Karagwe</td>\n",
       "      <td>0</td>\n",
       "      <td>-1.825359</td>\n",
       "      <td>31.130847</td>\n",
       "      <td>functional</td>\n",
       "    </tr>\n",
       "  </tbody>\n",
       "</table>\n",
       "</div>"
      ],
      "text/plain": [
       "   gps_height        ward        lga  population   latitude  longitude  \\\n",
       "0      1390.0    Mundindi     Ludewa         109  -9.856322  34.938093   \n",
       "1      1399.0       Natta  Serengeti         280  -2.147466  34.698766   \n",
       "2       686.0     Ngorika  Simanjiro         250  -3.821329  37.460664   \n",
       "3       263.0    Nanyumbu   Nanyumbu          58 -11.155298  38.486161   \n",
       "4         0.0  Nyakasimbi    Karagwe           0  -1.825359  31.130847   \n",
       "\n",
       "     status_group  \n",
       "0      functional  \n",
       "1      functional  \n",
       "2      functional  \n",
       "3  non functional  \n",
       "4      functional  "
      ]
     },
     "execution_count": 10,
     "metadata": {},
     "output_type": "execute_result"
    }
   ],
   "source": [
    "selected_col_list = ['gps_height','ward','lga','population','latitude','longitude','status_group']\n",
    "train_df = train_df_original[selected_col_list]\n",
    "train_df.head()"
   ]
  },
  {
   "cell_type": "markdown",
   "metadata": {},
   "source": [
    "### Step 4: Data Preprocessing"
   ]
  },
  {
   "cell_type": "code",
   "execution_count": 11,
   "metadata": {
    "collapsed": true
   },
   "outputs": [],
   "source": [
    "# Step 4: Data Preprocessing\n",
    "# Replace 0 with NaN where 0 does not make sense\n",
    "train_df[['gps_height','population']] = train_df[['gps_height','population']].replace(0, np.NaN)"
   ]
  },
  {
   "cell_type": "code",
   "execution_count": 12,
   "metadata": {
    "collapsed": true
   },
   "outputs": [],
   "source": [
    "#### Step 4.1: Outlier handling\n",
    "# GPS Height - Altitude of the well\n",
    "llimit_gps_height = np.nanpercentile(train_df.gps_height.values, 4)\n",
    "ulimit_gps_height = np.nanpercentile(train_df.gps_height.values, 99)\n",
    "train_df['gps_height'].ix[train_df['gps_height']<llimit_gps_height] = llimit_gps_height\n",
    "train_df['gps_height'].ix[train_df['gps_height']>ulimit_gps_height] = ulimit_gps_height\n",
    "\n",
    "# Population\n",
    "ulimit_pop = np.nanpercentile(train_df.population.values, 99)\n",
    "train_df['population'].ix[train_df['population']>ulimit_pop] = ulimit_pop\n",
    "\n",
    "# Latitude & Longitude    \n",
    "llimit = np.nanpercentile(train_df.latitude.values, 1)\n",
    "ulimit = np.nanpercentile(train_df.latitude.values, 99)\n",
    "train_df['latitude'].ix[train_df['latitude']<llimit] = llimit\n",
    "train_df['latitude'].ix[train_df['latitude']>ulimit] = ulimit\n",
    "\n",
    "llimit = np.nanpercentile(train_df.longitude.values, 1)\n",
    "ulimit = np.nanpercentile(train_df.longitude.values, 99)\n",
    "train_df['longitude'].ix[train_df['longitude']<llimit] = llimit\n",
    "train_df['longitude'].ix[train_df['longitude']>ulimit] = ulimit"
   ]
  },
  {
   "cell_type": "code",
   "execution_count": 13,
   "metadata": {},
   "outputs": [
    {
     "name": "stdout",
     "output_type": "stream",
     "text": [
      "gps_height      0\n",
      "ward            0\n",
      "lga             0\n",
      "population      0\n",
      "latitude        0\n",
      "longitude       0\n",
      "status_group    0\n",
      "dtype: int64\n"
     ]
    }
   ],
   "source": [
    "#### Step 4.2: Missing data handling\n",
    "imputer_median = Imputer(missing_values = 'NaN', strategy = 'median', axis = 0)\n",
    "median_gps_height = imputer_median.fit(train_df[[\"gps_height\"]])\n",
    "median_population = imputer_median.fit(train_df[[\"population\"]])\n",
    "train_df[\"gps_height\"]=median_gps_height.transform(train_df[[\"gps_height\"]]).ravel()\n",
    "train_df[\"population\"]=median_population.transform(train_df[[\"population\"]]).ravel()\n",
    "\n",
    "missing_data = DataFrameImputer().fit(train_df)\n",
    "train_df = missing_data.transform(train_df)\n",
    "\n",
    "print (train_df.apply(num_missing, axis=0))"
   ]
  },
  {
   "cell_type": "code",
   "execution_count": 14,
   "metadata": {},
   "outputs": [
    {
     "name": "stdout",
     "output_type": "stream",
     "text": [
      "<class 'pandas.core.frame.DataFrame'>\n",
      "Int64Index: 59400 entries, 0 to 59399\n",
      "Data columns (total 7 columns):\n",
      "gps_height      59400 non-null float64\n",
      "ward            59400 non-null object\n",
      "lga             59400 non-null object\n",
      "population      59400 non-null float64\n",
      "latitude        59400 non-null float64\n",
      "longitude       59400 non-null float64\n",
      "status_group    59400 non-null object\n",
      "dtypes: float64(4), object(3)\n",
      "memory usage: 3.6+ MB\n"
     ]
    }
   ],
   "source": [
    "train_df.info()"
   ]
  },
  {
   "cell_type": "code",
   "execution_count": 15,
   "metadata": {
    "collapsed": true
   },
   "outputs": [],
   "source": [
    "#### Step 4.3: Feature engineering / Variable creation\n",
    "# Idea is to create new variables that best represent the signals from the input dataset for the modeling algorithm.\n",
    "# Not illustrated for this example\n",
    "\n",
    "#### Step 4.4: Drop unwanted columns\n",
    "# If required, you can drop unwanted columns like id etc. at this stage"
   ]
  },
  {
   "cell_type": "code",
   "execution_count": 16,
   "metadata": {},
   "outputs": [
    {
     "name": "stdout",
     "output_type": "stream",
     "text": [
      "['functional' 'functional needs repair' 'non functional']\n"
     ]
    }
   ],
   "source": [
    "#### Step 4.5: Extract the target column\n",
    "target_to_be_encoded = np.ravel(np.array(train_df['status_group'].values))\n",
    "encoder = LabelEncoder()\n",
    "encoder.fit(target_to_be_encoded)\n",
    "print(encoder.classes_)\n",
    "train_target = encoder.transform(target_to_be_encoded)\n",
    "train_df = train_df.drop(['status_group'],axis=1)"
   ]
  },
  {
   "cell_type": "code",
   "execution_count": 17,
   "metadata": {
    "collapsed": true
   },
   "outputs": [],
   "source": [
    "#### Step 4.6: Variable Transformation\n",
    "## An important step that transforms the variables as appropriate\n",
    "\n",
    "# Variable transformation - Split columns by type\n",
    "float_columns=[]\n",
    "cat_columns=[]\n",
    "int_columns=[]\n",
    "    \n",
    "for i in train_df.columns:\n",
    "    if train_df[i].dtype == 'float': \n",
    "        float_columns.append(i)\n",
    "    elif train_df[i].dtype == 'object' or train_df[i].dtype == 'bool':\n",
    "        cat_columns.append(i)\n",
    "    elif train_df[i].dtype == 'int64':\n",
    "        int_columns.append(i)\n",
    "          \n",
    "train_cat_features = train_df[cat_columns]\n",
    "train_float_features = train_df[float_columns]\n",
    "train_int_features = train_df[int_columns]\n",
    "\n",
    "# Transformation for Categorical variables\n",
    "cat_transform_dict = {'ward':['le','le_ward'],  # Label encoding for ward\n",
    "                      'lga':['le','le_lga']     # Label encoding for lga\n",
    "                     }\n",
    "\n",
    "fitted_cat_objects_list = []\n",
    "for i in train_cat_features.columns:\n",
    "    original_values = train_cat_features[i].values.copy()\n",
    "    transform = cat_transform_dict[i][0]\n",
    "    transform_name = cat_transform_dict[i][1]\n",
    "    X_temp = train_cat_features[i].values.reshape(-1,1)\n",
    "    if transform == 'le':            # Label Encoding  \n",
    "        transform_name = LabelEncoder().fit(X_temp)\n",
    "        train_cat_features.loc[:,i] = transform_name.transform(X_temp)\n",
    "        fitted_cat_objects_list.append(transform_name)\n",
    "    if transform == 'oh':            # One Hot Encoding  \n",
    "        one_hot = pd.get_dummies(train_cat_features[i],prefix=i,drop_first=True)\n",
    "        train_cat_features = train_cat_features.drop(i,axis=1)\n",
    "        train_cat_features = train_cat_features.join(one_hot)\n",
    "        fitted_cat_objects_list.append(\"One Hot Encoding\")\n",
    "\n",
    "new_cat_columns=[]\n",
    "for i in train_cat_features.columns:\n",
    "    new_cat_columns. append(i)\n",
    "    \n",
    "# Transformation of Float Columns\n",
    "float_transform_dict = {'gps_height':['scaler','scaler_gps_height'],\n",
    "                        'population':['scaler','scaler_population'],\n",
    "                        'latitude': ['none','none_latitude'],\n",
    "                        'longitude': ['none','none_longitude']\n",
    "                        } \n",
    "fitted_float_objects_list = []\n",
    "\n",
    "for i in train_float_features.columns:\n",
    "    original_values = train_float_features[i].values.copy()\n",
    "    transform = float_transform_dict[i][0]\n",
    "    transform_name = float_transform_dict[i][1]\n",
    "    X_temp = train_float_features[i].values.reshape(-1,1)\n",
    "    skew_ = stats.skew(X_temp)\n",
    "    if transform == 'scaler':            # Rescale data (between 0 and 1)   \n",
    "        transform_name = MinMaxScaler(feature_range=(0, 1)).fit(X_temp)\n",
    "        train_float_features.loc[:,i] = transform_name.transform(X_temp)\n",
    "        fitted_float_objects_list.append(transform_name)\n",
    "    elif transform == 'standardizer':    # Standardize data (0 mean, 1 stdev)\n",
    "        transform_name = StandardScaler().fit(X_temp) \n",
    "        train_float_features.loc[:,i] = transform_name.transform(X_temp)\n",
    "        fitted_float_objects_list.append(transform_name)\n",
    "    elif transform == 'normalizer':     # Normalize data (length of 1)\n",
    "        transform_name = Normalizer().fit(X_temp) \n",
    "        train_float_features.loc[:,i] = transform_name.transform(X_temp)\n",
    "        fitted_float_objects_list.append(transform_name)\n",
    "    elif transform == 'log10':\n",
    "        train_float_features.loc[:,i] = np.log10(X_temp+1)\n",
    "    elif transform == 'boxcox':  # or if abs(skew_) > 0.25\n",
    "        train_float_features.loc[:,i],lam = stats.boxcox(X_temp)  #BoxCox transform. Might have to add 1 to make it non-zero\n",
    "        #train_float_features.loc[:,i] = boxcox(1+X_temp[:,2])[0]  # Use this only if the above one does not work\n",
    "        print('Lambda: %f' %lam)\n",
    "       \n",
    "        print(fitted_float_objects_list)\n",
    "        \n",
    "# Creating the final train_transformed_features dataset\n",
    "train_transformed_features = np.concatenate((train_cat_features,train_float_features,\n",
    "                                             train_int_features),axis=1)\n",
    "train_transformed_features = pd.DataFrame(data=train_transformed_features)\n",
    "\n",
    "## Assign column names\n",
    "all_cols = new_cat_columns + float_columns + int_columns\n",
    "train_transformed_features.columns = all_cols"
   ]
  },
  {
   "cell_type": "code",
   "execution_count": 18,
   "metadata": {},
   "outputs": [
    {
     "data": {
      "text/html": [
       "<div>\n",
       "<style>\n",
       "    .dataframe thead tr:only-child th {\n",
       "        text-align: right;\n",
       "    }\n",
       "\n",
       "    .dataframe thead th {\n",
       "        text-align: left;\n",
       "    }\n",
       "\n",
       "    .dataframe tbody tr th {\n",
       "        vertical-align: top;\n",
       "    }\n",
       "</style>\n",
       "<table border=\"1\" class=\"dataframe\">\n",
       "  <thead>\n",
       "    <tr style=\"text-align: right;\">\n",
       "      <th></th>\n",
       "      <th>ward</th>\n",
       "      <th>lga</th>\n",
       "      <th>gps_height</th>\n",
       "      <th>population</th>\n",
       "      <th>latitude</th>\n",
       "      <th>longitude</th>\n",
       "    </tr>\n",
       "  </thead>\n",
       "  <tbody>\n",
       "    <tr>\n",
       "      <th>0</th>\n",
       "      <td>1426.0</td>\n",
       "      <td>51.0</td>\n",
       "      <td>0.648434</td>\n",
       "      <td>0.043217</td>\n",
       "      <td>-9.856322</td>\n",
       "      <td>34.938093</td>\n",
       "    </tr>\n",
       "    <tr>\n",
       "      <th>1</th>\n",
       "      <td>1576.0</td>\n",
       "      <td>103.0</td>\n",
       "      <td>0.652641</td>\n",
       "      <td>0.111645</td>\n",
       "      <td>-2.147466</td>\n",
       "      <td>34.698766</td>\n",
       "    </tr>\n",
       "    <tr>\n",
       "      <th>2</th>\n",
       "      <td>1624.0</td>\n",
       "      <td>108.0</td>\n",
       "      <td>0.319308</td>\n",
       "      <td>0.099640</td>\n",
       "      <td>-3.821329</td>\n",
       "      <td>37.460664</td>\n",
       "    </tr>\n",
       "    <tr>\n",
       "      <th>3</th>\n",
       "      <td>1571.0</td>\n",
       "      <td>87.0</td>\n",
       "      <td>0.121552</td>\n",
       "      <td>0.022809</td>\n",
       "      <td>-11.112547</td>\n",
       "      <td>38.486161</td>\n",
       "    </tr>\n",
       "    <tr>\n",
       "      <th>4</th>\n",
       "      <td>1687.0</td>\n",
       "      <td>26.0</td>\n",
       "      <td>0.068724</td>\n",
       "      <td>0.059624</td>\n",
       "      <td>-1.825359</td>\n",
       "      <td>31.130847</td>\n",
       "    </tr>\n",
       "  </tbody>\n",
       "</table>\n",
       "</div>"
      ],
      "text/plain": [
       "     ward    lga  gps_height  population   latitude  longitude\n",
       "0  1426.0   51.0    0.648434    0.043217  -9.856322  34.938093\n",
       "1  1576.0  103.0    0.652641    0.111645  -2.147466  34.698766\n",
       "2  1624.0  108.0    0.319308    0.099640  -3.821329  37.460664\n",
       "3  1571.0   87.0    0.121552    0.022809 -11.112547  38.486161\n",
       "4  1687.0   26.0    0.068724    0.059624  -1.825359  31.130847"
      ]
     },
     "execution_count": 18,
     "metadata": {},
     "output_type": "execute_result"
    }
   ],
   "source": [
    "train_transformed_features.head()"
   ]
  },
  {
   "cell_type": "code",
   "execution_count": 19,
   "metadata": {
    "collapsed": true
   },
   "outputs": [],
   "source": [
    "X_for_feature_selection = train_transformed_features\n",
    "Y_for_feature_selection = train_target"
   ]
  },
  {
   "cell_type": "code",
   "execution_count": 20,
   "metadata": {},
   "outputs": [
    {
     "data": {
      "text/plain": [
       "array([0, 0, 0, ..., 0, 0, 0], dtype=int64)"
      ]
     },
     "execution_count": 20,
     "metadata": {},
     "output_type": "execute_result"
    }
   ],
   "source": [
    "Y_for_feature_selection"
   ]
  },
  {
   "cell_type": "markdown",
   "metadata": {},
   "source": [
    "### Step 5: Feature Selection"
   ]
  },
  {
   "cell_type": "code",
   "execution_count": 21,
   "metadata": {
    "collapsed": true
   },
   "outputs": [],
   "source": [
    "#### Step 5: Feature Selection\n",
    "## This step selects the variables to be taken to the modeling step. \n",
    "## Code below illustrates a couple of feature selection methods out of many possible ones\n",
    "\n",
    "features_df_algos = pd.DataFrame()\n",
    "feature_cols = pd.Series(train_df.columns)\n",
    "\n",
    "feature_selection = ['ExtraTrees','RFE']\n",
    "num_features_to_be_selected = 4\n",
    "\n",
    "#### Feature Selection 1: ExtraTrees\n",
    "if 'ExtraTrees' in feature_selection:\n",
    "    from sklearn.ensemble import ExtraTreesClassifier\n",
    "    feature_selection_model_et = ExtraTreesClassifier()  # To be used in Classification problems\n",
    "    # feature_selection_model_et = ExtraTreesRegressor() # To be used in Regression problems\n",
    "    feature_selection_model_et.fit(X_for_feature_selection, Y_for_feature_selection)\n",
    "    \n",
    "    # Feature Importance values\n",
    "    feature_imp_et=pd.Series(feature_selection_model_et.feature_importances_, index=feature_cols)\n",
    "    feature_imp_et = pd.DataFrame(feature_imp_et).reset_index()\n",
    "    feature_imp_et.columns = ['Features', 'Values_et']\n",
    "    \n",
    "    # Selecting from model\n",
    "    model_feature_selection_et = SelectFromModel(feature_selection_model_et, prefit=True, threshold=0.05)\n",
    "    features_selected_et = model_feature_selection_et.transform(X_for_feature_selection)\n",
    "    n_features = features_selected_et.shape[1]\n",
    "   \n",
    "    while n_features > num_features_to_be_selected:\n",
    "        model_feature_selection_et.threshold += 0.01\n",
    "        features_selected_et = model_feature_selection_et.transform(X_for_feature_selection)\n",
    "        n_features = features_selected_et.shape[1]\n",
    "    \n",
    "    temp_features_df = pd.DataFrame(X_for_feature_selection.columns[model_feature_selection_et.get_support()])\n",
    "    temp_features_df.columns = ['ET']\n",
    "    features_df_algos = pd.concat([features_df_algos,temp_features_df],axis=1)\n",
    "    \n",
    "# Feature Selection 2: RFE - Recursive Feature Elimination\n",
    "if 'RFE' in feature_selection:\n",
    "    from sklearn.linear_model import LogisticRegression\n",
    "    from sklearn.feature_selection import RFE\n",
    "    \n",
    "    model = LogisticRegression() # To be used in Classification problems\n",
    "    #model = LinearRegression() # To be used in Regression problems\n",
    "    rfe = RFE(model, num_features_to_be_selected) # second parameter - number of features to be selected\n",
    "    fit_rfe = rfe.fit(X_for_feature_selection, Y_for_feature_selection)\n",
    "    \n",
    "    #print(\"Num Features: \",fit_rfe.n_features_)\n",
    "    #print(\"Selected Features: \",fit_rfe.support_)\n",
    "    #print(\"Feature Ranking: \",fit_rfe.ranking_)\n",
    "    features_selected_rfe = fit_rfe.transform(X_for_feature_selection)\n",
    "    \n",
    "    temp_features_df = pd.DataFrame(X_for_feature_selection.columns[fit_rfe.support_])\n",
    "    temp_features_df.columns = ['RFE']\n",
    "    features_df_algos = pd.concat([features_df_algos,temp_features_df],axis=1)"
   ]
  },
  {
   "cell_type": "code",
   "execution_count": 22,
   "metadata": {},
   "outputs": [
    {
     "data": {
      "text/html": [
       "<div>\n",
       "<style>\n",
       "    .dataframe thead tr:only-child th {\n",
       "        text-align: right;\n",
       "    }\n",
       "\n",
       "    .dataframe thead th {\n",
       "        text-align: left;\n",
       "    }\n",
       "\n",
       "    .dataframe tbody tr th {\n",
       "        vertical-align: top;\n",
       "    }\n",
       "</style>\n",
       "<table border=\"1\" class=\"dataframe\">\n",
       "  <thead>\n",
       "    <tr style=\"text-align: right;\">\n",
       "      <th></th>\n",
       "      <th>ET</th>\n",
       "      <th>RFE</th>\n",
       "    </tr>\n",
       "  </thead>\n",
       "  <tbody>\n",
       "    <tr>\n",
       "      <th>0</th>\n",
       "      <td>gps_height</td>\n",
       "      <td>gps_height</td>\n",
       "    </tr>\n",
       "    <tr>\n",
       "      <th>1</th>\n",
       "      <td>population</td>\n",
       "      <td>population</td>\n",
       "    </tr>\n",
       "    <tr>\n",
       "      <th>2</th>\n",
       "      <td>latitude</td>\n",
       "      <td>latitude</td>\n",
       "    </tr>\n",
       "    <tr>\n",
       "      <th>3</th>\n",
       "      <td>longitude</td>\n",
       "      <td>longitude</td>\n",
       "    </tr>\n",
       "  </tbody>\n",
       "</table>\n",
       "</div>"
      ],
      "text/plain": [
       "           ET         RFE\n",
       "0  gps_height  gps_height\n",
       "1  population  population\n",
       "2    latitude    latitude\n",
       "3   longitude   longitude"
      ]
     },
     "execution_count": 22,
     "metadata": {},
     "output_type": "execute_result"
    }
   ],
   "source": [
    "features_df_algos"
   ]
  },
  {
   "cell_type": "markdown",
   "metadata": {},
   "source": [
    "** Based on feature selection using 2 methods, the 4 important variables are: gps_height, population, latitude & longitude **"
   ]
  },
  {
   "cell_type": "code",
   "execution_count": 23,
   "metadata": {
    "collapsed": true
   },
   "outputs": [],
   "source": [
    "selected_cols=['gps_height','population','latitude','longitude','lga']\n",
    "selected_X = X_for_feature_selection[selected_cols]\n",
    "\n",
    "X = selected_X\n",
    "Y = train_target\n",
    "\n",
    "# X & Y are the final variables taken for modeling"
   ]
  },
  {
   "cell_type": "markdown",
   "metadata": {},
   "source": [
    "### Step 6: Compare Algorithms "
   ]
  },
  {
   "cell_type": "code",
   "execution_count": 24,
   "metadata": {},
   "outputs": [
    {
     "name": "stderr",
     "output_type": "stream",
     "text": [
      "C:\\Users\\Karthikeyan\\Anaconda3\\lib\\site-packages\\sklearn\\cross_validation.py:44: DeprecationWarning: This module was deprecated in version 0.18 in favor of the model_selection module into which all the refactored classes and functions are moved. Also note that the interface of the new CV iterators are different from that of this module. This module will be removed in 0.20.\n",
      "  \"This module will be removed in 0.20.\", DeprecationWarning)\n"
     ]
    }
   ],
   "source": [
    "#### Step 6: Compare Algorithms\n",
    "from sklearn.linear_model import LogisticRegression\n",
    "from sklearn.tree import DecisionTreeClassifier\n",
    "from xgboost import XGBClassifier\n",
    "from sklearn import model_selection\n",
    "from sklearn import cross_validation\n",
    "from sklearn.metrics import accuracy_score,log_loss\n",
    "\n",
    "# Demonstrating the use of 3 algorithms. More can be added as required\n",
    "models_to_compare = ['LR','CART','XGB']"
   ]
  },
  {
   "cell_type": "code",
   "execution_count": 25,
   "metadata": {
    "collapsed": true
   },
   "outputs": [],
   "source": [
    "#### 6.1: Choose Evaluation Metric\n",
    "scoring = 'accuracy'\n",
    "#scoring = 'roc_auc'\n",
    "#scoring = \"f1_macro\"\n",
    "#scoring = 'neg_log_loss'\n",
    "\n",
    "#### Step 6.2: Set Cross-Validation parameters\n",
    "# Step 6.2.1: Evaluate using K-fold Cross Validation\n",
    "n_splits = 10\n",
    "num_instances = len(X)\n",
    "seed = 10"
   ]
  },
  {
   "cell_type": "code",
   "execution_count": 26,
   "metadata": {
    "collapsed": true
   },
   "outputs": [],
   "source": [
    "#### 6.3: Build the models list\n",
    "models = []\n",
    "\n",
    "if 'LR' in models_to_compare:\n",
    "    models.append(('LR', LogisticRegression()))\n",
    "    \n",
    "if 'CART' in models_to_compare:\n",
    "    models.append(('CART', DecisionTreeClassifier()))\n",
    "\n",
    "if 'XGB' in models_to_compare:\n",
    "    models.append(('XGB', XGBClassifier()))"
   ]
  },
  {
   "cell_type": "code",
   "execution_count": 27,
   "metadata": {},
   "outputs": [
    {
     "name": "stdout",
     "output_type": "stream",
     "text": [
      "LR: 0.538013 (0.006615)\n",
      "CART: 0.644327 (0.003697)\n",
      "XGB: 0.622559 (0.010107)\n"
     ]
    },
    {
     "data": {
      "image/png": "[encoded data removed]",
      "text/plain": [
       "<matplotlib.figure.Figure at 0x25215e85d30>"
      ]
     },
     "metadata": {},
     "output_type": "display_data"
    }
   ],
   "source": [
    "#### 6.4: Run k-fold validation on models and visualize the results\n",
    "results = []\n",
    "names = []\n",
    "for name, model in models:\n",
    "    # Choosing kfold cross-validation in this case\n",
    "    kfold = model_selection.KFold(n_splits=n_splits, shuffle=True, random_state=seed)\n",
    "    #kfold = model_selection.StratifiedKFold(n_splits=n_splits, shuffle=True, random_state=seed)\n",
    "    cv_results = model_selection.cross_val_score(model, X, Y, cv=kfold, scoring=scoring)\n",
    "    results.append(cv_results)\n",
    "    names.append(name)\n",
    "    msg = \"%s: %f (%f)\" % (name, cv_results.mean(), cv_results.std())\n",
    "    print(msg)\n",
    "    \n",
    "# Visualize Results for Classification\n",
    "fig = plt.figure()\n",
    "fig.suptitle('Algorithm Comparison')\n",
    "ax = fig.add_subplot(111)\n",
    "plt.boxplot(results)\n",
    "ax.set_xticklabels(names)\n",
    "plt.show()"
   ]
  },
  {
   "cell_type": "code",
   "execution_count": 28,
   "metadata": {
    "collapsed": true
   },
   "outputs": [],
   "source": [
    "#### 6.5: Select the models for further tuning\n",
    "algos_selected_for_tuning = ['XGB']"
   ]
  },
  {
   "cell_type": "markdown",
   "metadata": {},
   "source": [
    "### Step 7: Hyper-parameter tuning"
   ]
  },
  {
   "cell_type": "code",
   "execution_count": 29,
   "metadata": {},
   "outputs": [
    {
     "name": "stderr",
     "output_type": "stream",
     "text": [
      "C:\\Users\\Karthikeyan\\Anaconda3\\lib\\site-packages\\sklearn\\grid_search.py:43: DeprecationWarning: This module was deprecated in version 0.18 in favor of the model_selection module into which all the refactored classes and functions are moved. This module will be removed in 0.20.\n",
      "  DeprecationWarning)\n"
     ]
    }
   ],
   "source": [
    "#### Step 7.1: Creating the param grid & the model\n",
    "from sklearn.grid_search import GridSearchCV\n",
    "from sklearn.grid_search import RandomizedSearchCV\n",
    "import time\n",
    "\n",
    "models_to_tune = []\n",
    "param_grid_to_tune = []\n",
    "\n",
    "if 'LR' in algos_selected_for_tuning:  #1. Logistic Regression\n",
    "    c_values = [0.001, 0.01, 0.1, 1, 10, 100, 1000]\n",
    "    penalty = ['l1','l2']\n",
    "    #param_grid_lr = {'C':[100, 1000], 'tol': [0.001, 0.0001]}\n",
    "    param_grid_lr = dict(C=c_values, penalty=penalty)\n",
    "    \n",
    "    model_lr = LogisticRegression()\n",
    "    models_to_tune.append(model_lr)\n",
    "    param_grid_to_tune.append(param_grid_lr)\n",
    "    #model_1r = LogisticRegression(solver='lbfgs', multi_class='multinomial')\n",
    "\n",
    "if 'XGB' in algos_selected_for_tuning:  #2. XGB\n",
    "    n_estimators = [50,100]\n",
    "    max_depth = [2,4]\n",
    "    learning_rate = [0.01, 0.1]\n",
    "    param_grid_xgb = dict(max_depth=max_depth, n_estimators=n_estimators,learning_rate=learning_rate)\n",
    "    \n",
    "    model_xgb = XGBClassifier()\n",
    "    models_to_tune.append(model_xgb)\n",
    "    param_grid_to_tune.append(param_grid_xgb)"
   ]
  },
  {
   "cell_type": "code",
   "execution_count": 30,
   "metadata": {},
   "outputs": [
    {
     "name": "stdout",
     "output_type": "stream",
     "text": [
      "Algorithm:  XGB\n",
      "{'n_estimators': 100, 'max_depth': 3, 'silent': True, 'learning_rate': 0.1, 'colsample_bytree': 1, 'base_score': 0.5, 'missing': None, 'min_child_weight': 1, 'objective': 'binary:logistic', 'gamma': 0, 'max_delta_step': 0, 'reg_lambda': 1, 'seed': 0, 'nthread': -1, 'colsample_bylevel': 1, 'subsample': 1, 'reg_alpha': 0, 'scale_pos_weight': 1}\n",
      "[INFO] tuning hyperparameters via grid search\n",
      "Best: 0.635808 using {'n_estimators': 100, 'max_depth': 4, 'learning_rate': 0.1}\n",
      "0.561835 (0.005921) with: {'n_estimators': 50, 'max_depth': 2, 'learning_rate': 0.01}\n",
      "0.562424 (0.006315) with: {'n_estimators': 100, 'max_depth': 2, 'learning_rate': 0.01}\n",
      "0.585539 (0.006919) with: {'n_estimators': 50, 'max_depth': 4, 'learning_rate': 0.01}\n",
      "0.589680 (0.007017) with: {'n_estimators': 100, 'max_depth': 4, 'learning_rate': 0.01}\n",
      "0.589630 (0.005348) with: {'n_estimators': 50, 'max_depth': 2, 'learning_rate': 0.1}\n",
      "0.602323 (0.006515) with: {'n_estimators': 100, 'max_depth': 2, 'learning_rate': 0.1}\n",
      "0.622761 (0.004271) with: {'n_estimators': 50, 'max_depth': 4, 'learning_rate': 0.1}\n",
      "0.635808 (0.005518) with: {'n_estimators': 100, 'max_depth': 4, 'learning_rate': 0.1}\n",
      "[INFO] search took 293.83 seconds\n"
     ]
    }
   ],
   "source": [
    "#### Step 7.2: Choose Search strategy\n",
    "#search = \"random_search\"\n",
    "search = \"grid_search\"\n",
    "\n",
    "##### Step 7.3: Tuning the model(s)\n",
    "for i in range(0,len(models_to_tune)):\n",
    "    model_to_tune = models_to_tune[i]\n",
    "    param_grid = param_grid_to_tune[i]\n",
    "    print(\"Algorithm: \",algos_selected_for_tuning[i])\n",
    "    print(model_to_tune.get_params())\n",
    "    kfold = cross_validation.KFold(n=num_instances, n_folds=n_splits, random_state=seed)\n",
    "    if search == \"grid_search\":\n",
    "        ## Grid Search\n",
    "        print(\"[INFO] tuning hyperparameters via grid search\")\n",
    "        grid = GridSearchCV(estimator=model_to_tune, param_grid=param_grid, scoring=scoring, cv=kfold)\n",
    "    elif search == \"random_search\":\n",
    "        ## Random Search\n",
    "        print(\"[INFO] tuning hyperparameters via random search\")\n",
    "        grid = RandomizedSearchCV(estimator=model_to_tune, param_distributions=param_grid, scoring=scoring, cv=kfold)\n",
    "       \n",
    "    start = time.time()\n",
    "    grid_result = grid.fit(X, Y)\n",
    "    print(\"Best: %f using %s\" % (grid_result.best_score_, grid_result.best_params_))\n",
    "    for params, mean_score, scores in grid_result.grid_scores_:\n",
    "        print(\"%f (%f) with: %r\" % (scores.mean(), scores.std(), params))\n",
    "    print(\"[INFO] search took {:.2f} seconds\".format(time.time() - start))"
   ]
  },
  {
   "cell_type": "code",
   "execution_count": 31,
   "metadata": {
    "collapsed": true
   },
   "outputs": [],
   "source": [
    "#### Step 7.4: Compute final cross-validation metric values\n",
    "algos_selected_after_tuning = ['XGB']\n",
    "\n",
    "test_size = 0.2\n",
    "seed = 7\n",
    "X_train, X_validation, Y_train, Y_validation = model_selection.train_test_split(X, Y, test_size=test_size, random_state=seed)\n",
    "eval_set = [(X_train, Y_train), (X_validation, Y_validation)]\n",
    "\n",
    "models_after_tuning = []\n",
    "\n",
    "for i in range(0,len(algos_selected_after_tuning)):\n",
    "    algo = algos_selected_after_tuning[i]\n",
    "    if algo=='XGB':\n",
    "        model_xgb = XGBClassifier(n_estimators=100,max_depth=4,learning_rate=0.1)\n",
    "        model_xgb.fit(X, Y)\n",
    "        models_after_tuning.append(model_xgb)\n",
    "        \n",
    "    if algo=='LR':\n",
    "        model_lr = LogisticRegression(C=1, penalty='l1')\n",
    "        model_lr.fit(X, Y)\n",
    "        models_after_tuning.append(model_lr)"
   ]
  },
  {
   "cell_type": "code",
   "execution_count": 32,
   "metadata": {},
   "outputs": [
    {
     "name": "stdout",
     "output_type": "stream",
     "text": [
      "Metrics for Algorithm:  XGBClassifier(base_score=0.5, colsample_bylevel=1, colsample_bytree=1,\n",
      "       gamma=0, learning_rate=0.1, max_delta_step=0, max_depth=4,\n",
      "       min_child_weight=1, missing=None, n_estimators=100, nthread=-1,\n",
      "       objective='multi:softprob', reg_alpha=0, reg_lambda=1,\n",
      "       scale_pos_weight=1, seed=0, silent=True, subsample=1)\n",
      "Accuracy of Algorithm 3: 63.55%\n",
      "[[5365   31 1022]\n",
      " [ 632   48  196]\n",
      " [2438   11 2137]]\n",
      "             precision    recall  f1-score   support\n",
      "\n",
      "          0       0.64      0.84      0.72      6418\n",
      "          1       0.53      0.05      0.10       876\n",
      "          2       0.64      0.47      0.54      4586\n",
      "\n",
      "avg / total       0.63      0.64      0.61     11880\n",
      "\n"
     ]
    }
   ],
   "source": [
    "from sklearn.metrics import accuracy_score,log_loss,confusion_matrix,classification_report\n",
    "\n",
    "for i in range(0,len(models_after_tuning)):\n",
    "    model_for_cv = models_after_tuning[i]\n",
    "    \n",
    "    if model_for_cv == \"model_xgb\":\n",
    "    #Use error & logloss for binary classification & merror & mlogloss for multiclass classification\n",
    "        model_for_cv.fit(X_train, Y_train, early_stopping_rounds=10,eval_metric=[\"error\",\"logloss\"], eval_set=eval_set, verbose=True)\n",
    "    # If Regression use rmse and mae\n",
    "        #model_for_cv.fit(X_train, Y_train, eval_metric=[\"rmse\",\"mae\"], eval_set=eval_set, verbose=True)\n",
    "    else:\n",
    "        model_for_cv.fit(X_train, Y_train)\n",
    "    \n",
    "    print(\"Metrics for Algorithm: \",model_for_cv)\n",
    "    y_pred = model_for_cv.predict(X_validation)\n",
    "    predictions = [round(value) for value in y_pred]\n",
    "    accuracy_1 = accuracy_score(Y_validation, predictions)\n",
    "    print(\"Accuracy of Algorithm 3: %.2f%%\" % (accuracy_1 * 100.0))\n",
    "    print(confusion_matrix(Y_validation, y_pred))\n",
    "    print(classification_report(Y_validation, y_pred))"
   ]
  },
  {
   "cell_type": "code",
   "execution_count": 33,
   "metadata": {
    "collapsed": true
   },
   "outputs": [],
   "source": [
    "#### Step 7.5: Create the final model(s) using the full training set and best hyper-parameters\n",
    "\n",
    "final_models = []\n",
    "\n",
    "for i in range(0,len(algos_selected_after_tuning)):\n",
    "    algo = algos_selected_after_tuning[i]\n",
    "    if algo=='XGB':\n",
    "        model_xgb = XGBClassifier(n_estimators=100,max_depth=4,learning_rate=0.1)\n",
    "        model_xgb.fit(X, Y)\n",
    "        final_models.append(model_xgb)\n",
    "        \n",
    "    if algo=='LR':\n",
    "        model_lr = LogisticRegression(C=1, penalty='l1')\n",
    "        model_lr.fit(X, Y)\n",
    "        final_models.append(model_lr)"
   ]
  },
  {
   "cell_type": "markdown",
   "metadata": {},
   "source": [
    "### Step 8: Predict on Test Set"
   ]
  },
  {
   "cell_type": "code",
   "execution_count": 34,
   "metadata": {
    "collapsed": true
   },
   "outputs": [],
   "source": [
    "#### Step 8.1: Load the test set\n",
    "test_filename = '../0.datasets/DD-WaterPump-Test.csv' \n",
    "test_df_original = pd.read_csv(test_filename, header=0,na_values='')"
   ]
  },
  {
   "cell_type": "code",
   "execution_count": 35,
   "metadata": {
    "collapsed": true
   },
   "outputs": [],
   "source": [
    "#### Step 8.2: Data pre-processing\n",
    "selected_col_list_test = ['gps_height','ward','lga','population','latitude','longitude']\n",
    "test_df = test_df_original[selected_col_list_test]"
   ]
  },
  {
   "cell_type": "code",
   "execution_count": 36,
   "metadata": {
    "collapsed": true
   },
   "outputs": [],
   "source": [
    "# Replace 0 with NaN where 0 does not make sense\n",
    "test_df[['gps_height','population']] = test_df[['gps_height','population']].replace(0, np.NaN)\n",
    "#### Outlier handling\n",
    "# GPS Height - Altitude of the well\n",
    "test_df['gps_height'].ix[test_df['gps_height']<llimit_gps_height] = llimit_gps_height\n",
    "test_df['gps_height'].ix[test_df['gps_height']>ulimit_gps_height] = ulimit_gps_height\n",
    "\n",
    "# Population\n",
    "test_df['population'].ix[test_df['population']>ulimit_pop] = ulimit_pop\n",
    "\n",
    "#print (test_df.apply(num_missing, axis=0))\n",
    "test_df[\"gps_height\"]=median_gps_height.transform(test_df[[\"gps_height\"]]).ravel()\n",
    "test_df[\"population\"]=median_population.transform(test_df[[\"population\"]]).ravel()\n",
    "\n",
    "test_df = missing_data.transform(test_df)\n",
    "#print (test_df.apply(num_missing, axis=0))   "
   ]
  },
  {
   "cell_type": "code",
   "execution_count": 37,
   "metadata": {},
   "outputs": [
    {
     "name": "stdout",
     "output_type": "stream",
     "text": [
      "Fitted object  LabelEncoder()\n",
      "Fitted object  LabelEncoder()\n",
      "Fitted object  MinMaxScaler(copy=True, feature_range=(0, 1))\n",
      "Fitted object  MinMaxScaler(copy=True, feature_range=(0, 1))\n"
     ]
    }
   ],
   "source": [
    "# Variable Transformation of Feature columns\n",
    "test_float_columns=[]\n",
    "test_cat_columns=[]\n",
    "test_int_columns=[]\n",
    "\n",
    "for i in test_df.columns:\n",
    "    if test_df[i].dtype == 'float': \n",
    "        test_float_columns.append(i)\n",
    "    elif test_df[i].dtype == 'object' or test_df[i].dtype == 'bool' :\n",
    "        test_cat_columns.append(i)\n",
    "    elif test_df[i].dtype == 'int64':\n",
    "        test_int_columns.append(i)\n",
    "\n",
    "test_cat_features = test_df[test_cat_columns]\n",
    "test_float_features = test_df[test_float_columns]\n",
    "test_int_features = test_df[test_int_columns]\n",
    "\n",
    "count = 0\n",
    "for i in test_cat_features.columns:\n",
    "    X_temp_test = test_cat_features[i].values.reshape(-1,1)\n",
    "    transform = cat_transform_dict[i][0]\n",
    "\n",
    "    if transform == 'le':            # Label Encoding - IMPORTANT: Code below to handle new classes not seen in training set\n",
    "        fitted_object = fitted_cat_objects_list[count]\n",
    "        print(\"Fitted object \",fitted_object)\n",
    "        X_temp_test = test_cat_features.loc[:,i].map(lambda s:'other' if s not in fitted_object.classes_ else s)\n",
    "        temp_classes = fitted_object.classes_.tolist()\n",
    "        bisect.insort_left(temp_classes,'other')\n",
    "        fitted_object.classes_ = temp_classes\n",
    "        test_cat_features.loc[:,i] = fitted_object.transform(X_temp_test)\n",
    "        count = count + 1\n",
    "    if transform == 'oh':\n",
    "        fitted_object = fitted_cat_objects_list[count]\n",
    "        print(\"Fitted object \",fitted_object)\n",
    "        one_hot_test = pd.get_dummies(test_cat_features[i],prefix=i,drop_first=True)\n",
    "        test_cat_features = test_cat_features.drop(i,axis=1)\n",
    "        test_cat_features = test_cat_features.join(one_hot_test)        \n",
    "        count = count + 1 \n",
    "\n",
    "new_test_cat_columns=[]\n",
    "for i in test_cat_features.columns:\n",
    "    new_test_cat_columns. append(i)\n",
    "    \n",
    "    count = 0\n",
    "\n",
    "for i in test_float_features.columns:\n",
    "    X_temp_test = test_float_features[i].values.reshape(-1,1)\n",
    "    transform = float_transform_dict[i][0]\n",
    "    if transform == 'scaler' or transform == 'standardizer' or transform == 'normalizer':\n",
    "        fitted_object = fitted_float_objects_list[count]\n",
    "        print(\"Fitted object \",fitted_object)\n",
    "        test_float_features.loc[:,i] = fitted_object.transform(X_temp_test)\n",
    "        count = count + 1\n",
    "    elif transform == 'log10':\n",
    "        test_float_features.loc[:,i] = np.log10(X_temp_test) \n",
    "\n",
    "# Creating the final test_transformed_features dataset\n",
    "temp_1 = np.concatenate((test_cat_features,test_float_features),axis=1)\n",
    "test_transformed_features = np.concatenate((temp_1,test_int_features),axis=1)\n",
    "test_transformed_features = pd.DataFrame(data=test_transformed_features)\n",
    "\n",
    "## Assign column names\n",
    "all_cols_test = new_test_cat_columns + test_float_columns + test_int_columns\n",
    "test_transformed_features.columns = all_cols_test"
   ]
  },
  {
   "cell_type": "code",
   "execution_count": 38,
   "metadata": {},
   "outputs": [
    {
     "data": {
      "text/html": [
       "<div>\n",
       "<style>\n",
       "    .dataframe thead tr:only-child th {\n",
       "        text-align: right;\n",
       "    }\n",
       "\n",
       "    .dataframe thead th {\n",
       "        text-align: left;\n",
       "    }\n",
       "\n",
       "    .dataframe tbody tr th {\n",
       "        vertical-align: top;\n",
       "    }\n",
       "</style>\n",
       "<table border=\"1\" class=\"dataframe\">\n",
       "  <thead>\n",
       "    <tr style=\"text-align: right;\">\n",
       "      <th></th>\n",
       "      <th>ward</th>\n",
       "      <th>lga</th>\n",
       "      <th>gps_height</th>\n",
       "      <th>population</th>\n",
       "      <th>latitude</th>\n",
       "      <th>longitude</th>\n",
       "    </tr>\n",
       "  </thead>\n",
       "  <tbody>\n",
       "    <tr>\n",
       "      <th>0</th>\n",
       "      <td>18.0</td>\n",
       "      <td>63.0</td>\n",
       "      <td>0.931744</td>\n",
       "      <td>0.128051</td>\n",
       "      <td>-4.059696</td>\n",
       "      <td>35.290799</td>\n",
       "    </tr>\n",
       "    <tr>\n",
       "      <th>1</th>\n",
       "      <td>691.0</td>\n",
       "      <td>0.0</td>\n",
       "      <td>0.732118</td>\n",
       "      <td>0.119648</td>\n",
       "      <td>-3.309214</td>\n",
       "      <td>36.656709</td>\n",
       "    </tr>\n",
       "    <tr>\n",
       "      <th>2</th>\n",
       "      <td>1787.0</td>\n",
       "      <td>109.0</td>\n",
       "      <td>0.731183</td>\n",
       "      <td>0.199680</td>\n",
       "      <td>-5.004344</td>\n",
       "      <td>34.767863</td>\n",
       "    </tr>\n",
       "    <tr>\n",
       "      <th>3</th>\n",
       "      <td>1280.0</td>\n",
       "      <td>49.0</td>\n",
       "      <td>0.123422</td>\n",
       "      <td>0.099640</td>\n",
       "      <td>-9.418672</td>\n",
       "      <td>38.058046</td>\n",
       "    </tr>\n",
       "    <tr>\n",
       "      <th>4</th>\n",
       "      <td>1155.0</td>\n",
       "      <td>61.0</td>\n",
       "      <td>0.587658</td>\n",
       "      <td>0.023609</td>\n",
       "      <td>-10.950412</td>\n",
       "      <td>35.006123</td>\n",
       "    </tr>\n",
       "  </tbody>\n",
       "</table>\n",
       "</div>"
      ],
      "text/plain": [
       "     ward    lga  gps_height  population   latitude  longitude\n",
       "0    18.0   63.0    0.931744    0.128051  -4.059696  35.290799\n",
       "1   691.0    0.0    0.732118    0.119648  -3.309214  36.656709\n",
       "2  1787.0  109.0    0.731183    0.199680  -5.004344  34.767863\n",
       "3  1280.0   49.0    0.123422    0.099640  -9.418672  38.058046\n",
       "4  1155.0   61.0    0.587658    0.023609 -10.950412  35.006123"
      ]
     },
     "execution_count": 38,
     "metadata": {},
     "output_type": "execute_result"
    }
   ],
   "source": [
    "test_transformed_features.head()"
   ]
  },
  {
   "cell_type": "code",
   "execution_count": 39,
   "metadata": {
    "collapsed": true
   },
   "outputs": [],
   "source": [
    "X_test_for_feature_selection = test_transformed_features\n",
    "selected_X_test = X_test_for_feature_selection[selected_cols]\n",
    "X_test = selected_X_test"
   ]
  },
  {
   "cell_type": "code",
   "execution_count": 40,
   "metadata": {},
   "outputs": [
    {
     "name": "stdout",
     "output_type": "stream",
     "text": [
      "XGBClassifier(base_score=0.5, colsample_bylevel=1, colsample_bytree=1,\n",
      "       gamma=0, learning_rate=0.1, max_delta_step=0, max_depth=4,\n",
      "       min_child_weight=1, missing=None, n_estimators=100, nthread=-1,\n",
      "       objective='multi:softprob', reg_alpha=0, reg_lambda=1,\n",
      "       scale_pos_weight=1, seed=0, silent=True, subsample=1)\n"
     ]
    }
   ],
   "source": [
    "predictions = pd.DataFrame()\n",
    "for i in range(0,len(final_models)):\n",
    "    algo = algos_selected_after_tuning[i]\n",
    "    loaded_model = final_models[i]\n",
    "    print(loaded_model)\n",
    "    predictions[i] = loaded_model.predict(X_test)\n",
    "    #print(predictions[i])"
   ]
  },
  {
   "cell_type": "code",
   "execution_count": 41,
   "metadata": {},
   "outputs": [
    {
     "name": "stdout",
     "output_type": "stream",
     "text": [
      "status_group\n",
      "functional                 10611\n",
      "functional needs repair      115\n",
      "non functional              4124\n",
      "dtype: int64\n"
     ]
    },
    {
     "data": {
      "text/html": [
       "<div>\n",
       "<style>\n",
       "    .dataframe thead tr:only-child th {\n",
       "        text-align: right;\n",
       "    }\n",
       "\n",
       "    .dataframe thead th {\n",
       "        text-align: left;\n",
       "    }\n",
       "\n",
       "    .dataframe tbody tr th {\n",
       "        vertical-align: top;\n",
       "    }\n",
       "</style>\n",
       "<table border=\"1\" class=\"dataframe\">\n",
       "  <thead>\n",
       "    <tr style=\"text-align: right;\">\n",
       "      <th></th>\n",
       "      <th>id</th>\n",
       "      <th>status_class</th>\n",
       "      <th>status_group</th>\n",
       "    </tr>\n",
       "  </thead>\n",
       "  <tbody>\n",
       "    <tr>\n",
       "      <th>0</th>\n",
       "      <td>50785</td>\n",
       "      <td>0</td>\n",
       "      <td>functional</td>\n",
       "    </tr>\n",
       "    <tr>\n",
       "      <th>1</th>\n",
       "      <td>51630</td>\n",
       "      <td>0</td>\n",
       "      <td>functional</td>\n",
       "    </tr>\n",
       "    <tr>\n",
       "      <th>2</th>\n",
       "      <td>17168</td>\n",
       "      <td>0</td>\n",
       "      <td>functional</td>\n",
       "    </tr>\n",
       "    <tr>\n",
       "      <th>3</th>\n",
       "      <td>45559</td>\n",
       "      <td>2</td>\n",
       "      <td>non functional</td>\n",
       "    </tr>\n",
       "    <tr>\n",
       "      <th>4</th>\n",
       "      <td>49871</td>\n",
       "      <td>0</td>\n",
       "      <td>functional</td>\n",
       "    </tr>\n",
       "    <tr>\n",
       "      <th>5</th>\n",
       "      <td>52449</td>\n",
       "      <td>0</td>\n",
       "      <td>functional</td>\n",
       "    </tr>\n",
       "    <tr>\n",
       "      <th>6</th>\n",
       "      <td>24806</td>\n",
       "      <td>0</td>\n",
       "      <td>functional</td>\n",
       "    </tr>\n",
       "    <tr>\n",
       "      <th>7</th>\n",
       "      <td>28965</td>\n",
       "      <td>2</td>\n",
       "      <td>non functional</td>\n",
       "    </tr>\n",
       "    <tr>\n",
       "      <th>8</th>\n",
       "      <td>36301</td>\n",
       "      <td>2</td>\n",
       "      <td>non functional</td>\n",
       "    </tr>\n",
       "    <tr>\n",
       "      <th>9</th>\n",
       "      <td>54122</td>\n",
       "      <td>0</td>\n",
       "      <td>functional</td>\n",
       "    </tr>\n",
       "    <tr>\n",
       "      <th>10</th>\n",
       "      <td>419</td>\n",
       "      <td>0</td>\n",
       "      <td>functional</td>\n",
       "    </tr>\n",
       "    <tr>\n",
       "      <th>11</th>\n",
       "      <td>45750</td>\n",
       "      <td>0</td>\n",
       "      <td>functional</td>\n",
       "    </tr>\n",
       "    <tr>\n",
       "      <th>12</th>\n",
       "      <td>653</td>\n",
       "      <td>0</td>\n",
       "      <td>functional</td>\n",
       "    </tr>\n",
       "    <tr>\n",
       "      <th>13</th>\n",
       "      <td>14017</td>\n",
       "      <td>0</td>\n",
       "      <td>functional</td>\n",
       "    </tr>\n",
       "    <tr>\n",
       "      <th>14</th>\n",
       "      <td>44607</td>\n",
       "      <td>0</td>\n",
       "      <td>functional</td>\n",
       "    </tr>\n",
       "    <tr>\n",
       "      <th>15</th>\n",
       "      <td>40228</td>\n",
       "      <td>0</td>\n",
       "      <td>functional</td>\n",
       "    </tr>\n",
       "    <tr>\n",
       "      <th>16</th>\n",
       "      <td>27714</td>\n",
       "      <td>0</td>\n",
       "      <td>functional</td>\n",
       "    </tr>\n",
       "    <tr>\n",
       "      <th>17</th>\n",
       "      <td>28785</td>\n",
       "      <td>0</td>\n",
       "      <td>functional</td>\n",
       "    </tr>\n",
       "    <tr>\n",
       "      <th>18</th>\n",
       "      <td>28330</td>\n",
       "      <td>0</td>\n",
       "      <td>functional</td>\n",
       "    </tr>\n",
       "    <tr>\n",
       "      <th>19</th>\n",
       "      <td>18532</td>\n",
       "      <td>2</td>\n",
       "      <td>non functional</td>\n",
       "    </tr>\n",
       "    <tr>\n",
       "      <th>20</th>\n",
       "      <td>69961</td>\n",
       "      <td>2</td>\n",
       "      <td>non functional</td>\n",
       "    </tr>\n",
       "    <tr>\n",
       "      <th>21</th>\n",
       "      <td>55083</td>\n",
       "      <td>0</td>\n",
       "      <td>functional</td>\n",
       "    </tr>\n",
       "    <tr>\n",
       "      <th>22</th>\n",
       "      <td>8691</td>\n",
       "      <td>0</td>\n",
       "      <td>functional</td>\n",
       "    </tr>\n",
       "    <tr>\n",
       "      <th>23</th>\n",
       "      <td>30331</td>\n",
       "      <td>2</td>\n",
       "      <td>non functional</td>\n",
       "    </tr>\n",
       "    <tr>\n",
       "      <th>24</th>\n",
       "      <td>70970</td>\n",
       "      <td>0</td>\n",
       "      <td>functional</td>\n",
       "    </tr>\n",
       "  </tbody>\n",
       "</table>\n",
       "</div>"
      ],
      "text/plain": [
       "       id  status_class    status_group\n",
       "0   50785             0      functional\n",
       "1   51630             0      functional\n",
       "2   17168             0      functional\n",
       "3   45559             2  non functional\n",
       "4   49871             0      functional\n",
       "5   52449             0      functional\n",
       "6   24806             0      functional\n",
       "7   28965             2  non functional\n",
       "8   36301             2  non functional\n",
       "9   54122             0      functional\n",
       "10    419             0      functional\n",
       "11  45750             0      functional\n",
       "12    653             0      functional\n",
       "13  14017             0      functional\n",
       "14  44607             0      functional\n",
       "15  40228             0      functional\n",
       "16  27714             0      functional\n",
       "17  28785             0      functional\n",
       "18  28330             0      functional\n",
       "19  18532             2  non functional\n",
       "20  69961             2  non functional\n",
       "21  55083             0      functional\n",
       "22   8691             0      functional\n",
       "23  30331             2  non functional\n",
       "24  70970             0      functional"
      ]
     },
     "execution_count": 41,
     "metadata": {},
     "output_type": "execute_result"
    }
   ],
   "source": [
    "final_df = pd.DataFrame()\n",
    "final_df[['id']] = test_df_original[['id']]\n",
    "final_df['status_class'] = 0\n",
    "final_df['status_group'] = 'functional'\n",
    "\n",
    "final_df['status_class'] = predictions[0]  #Predictions from XGBoost\n",
    "final_df.loc[final_df.status_class == 0,'status_group'] = 'functional'\n",
    "final_df.loc[final_df.status_class == 1,'status_group'] = 'functional needs repair'\n",
    "final_df.loc[final_df.status_class == 2,'status_group'] = 'non functional'\n",
    "\n",
    "print(final_df.groupby('status_group').size())\n",
    "\n",
    "final_df.head(25)"
   ]
  },
  {
   "cell_type": "code",
   "execution_count": null,
   "metadata": {
    "collapsed": true
   },
   "outputs": [],
   "source": []
  }
 ],
 "metadata": {
  "anaconda-cloud": {},
  "kernelspec": {
   "display_name": "Python [Root]",
   "language": "python",
   "name": "Python [Root]"
  },
  "language_info": {
   "codemirror_mode": {
    "name": "ipython",
    "version": 3
   },
   "file_extension": ".py",
   "mimetype": "text/x-python",
   "name": "python",
   "nbconvert_exporter": "python",
   "pygments_lexer": "ipython3",
   "version": "3.5.2"
  }
 },
 "nbformat": 4,
 "nbformat_minor": 2
}
